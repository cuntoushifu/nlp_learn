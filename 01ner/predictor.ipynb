{
 "cells": [
  {
   "cell_type": "code",
   "execution_count": 15,
   "metadata": {},
   "outputs": [],
   "source": [
    "from transformers import BertForTokenClassification, BertTokenizerFast\n",
    "import torch\n",
    "from utils import *\n",
    "\n",
    "model_path = \"./my-bert-chinese-ner\"  # 模型保存路径\n",
    "model = BertForTokenClassification.from_pretrained(model_path)\n",
    "tokenizer = BertTokenizerFast.from_pretrained('bert-base-chinese')\n"
   ]
  },
  {
   "cell_type": "code",
   "execution_count": 16,
   "metadata": {},
   "outputs": [],
   "source": [
    "text = \"刘战是三峡大学硕士\"  # 示例输入文本\n",
    "encoding = tokenizer(text, return_tensors=\"pt\", padding=True, truncation=True, max_length=128)\n"
   ]
  },
  {
   "cell_type": "code",
   "execution_count": 17,
   "metadata": {},
   "outputs": [],
   "source": [
    "with torch.no_grad():\n",
    "    outputs = model(**encoding)\n"
   ]
  },
  {
   "cell_type": "code",
   "execution_count": 18,
   "metadata": {},
   "outputs": [
    {
     "data": {
      "text/plain": [
       "['O', 'B-PER', 'I-PER', 'O', 'B-ORG', 'I-ORG', 'I-ORG', 'I-ORG', 'O', 'O', 'O']"
      ]
     },
     "execution_count": 18,
     "metadata": {},
     "output_type": "execute_result"
    }
   ],
   "source": [
    "predictions = outputs.logits.argmax(dim=2)\n",
    "# 假设你有一个从ID到标签的映射，如下所示\n",
    "id_to_label = {0: 'O', 1: 'B-LOC', 2: 'B-ORG', 3: 'B-PER', 4: 'I-LOC', 5: 'I-ORG', 6: 'I-PER'}\n",
    "\n",
    "# 将预测的标签ID转换为标签名\n",
    "predicted_label_sequence = [id_to_label[id.item()] for id in predictions[0]]\n",
    "predicted_label_sequence"
   ]
  },
  {
   "cell_type": "code",
   "execution_count": 19,
   "metadata": {},
   "outputs": [
    {
     "name": "stdout",
     "output_type": "stream",
     "text": [
      "令牌\t预测标签\n",
      "------------------\n",
      "刘\tB-PER\n",
      "战\tI-PER\n",
      "是\tO\n",
      "三\tB-ORG\n",
      "峡\tI-ORG\n",
      "大\tI-ORG\n",
      "学\tI-ORG\n",
      "硕\tO\n",
      "士\tO\n"
     ]
    }
   ],
   "source": [
    "label_to_id = {v: k for k, v in id_to_label.items()}\n",
    "\n",
    "# 将 predicted_label_sequence 中的标签名称转换为对应的索引\n",
    "predicted_label_indices = [label_to_id[label] for label in predicted_label_sequence]\n",
    "\n",
    "display_text_labels(text, predicted_label_indices, id_to_label, tokenizer)\n"
   ]
  },
  {
   "cell_type": "code",
   "execution_count": null,
   "metadata": {},
   "outputs": [],
   "source": []
  }
 ],
 "metadata": {
  "kernelspec": {
   "display_name": "nlp_app",
   "language": "python",
   "name": "python3"
  },
  "language_info": {
   "codemirror_mode": {
    "name": "ipython",
    "version": 3
   },
   "file_extension": ".py",
   "mimetype": "text/x-python",
   "name": "python",
   "nbconvert_exporter": "python",
   "pygments_lexer": "ipython3",
   "version": "3.11.8"
  }
 },
 "nbformat": 4,
 "nbformat_minor": 2
}
