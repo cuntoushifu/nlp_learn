{
 "cells": [
  {
   "cell_type": "code",
   "execution_count": 31,
   "id": "initial_id",
   "metadata": {
    "collapsed": true,
    "ExecuteTime": {
     "end_time": "2024-03-14T15:01:57.553256Z",
     "start_time": "2024-03-14T15:01:57.540151Z"
    }
   },
   "outputs": [
    {
     "name": "stdout",
     "output_type": "stream",
     "text": [
      "https://hf-mirror.com\n",
      "Number of GPUs available: 1\n",
      "CUDA version: 12.1\n",
      "Device name: NVIDIA RTX A6000\n"
     ]
    }
   ],
   "source": [
    "import os\n",
    "from transformers import pipeline\n",
    "import torch\n",
    "\n",
    "# cache_dir = \"/Users/yangye/models\"\n",
    "\n",
    "\n",
    "# 设置环境变量\n",
    "# os.environ[\"HF_ENDPOINT\"] = \"https://hf-mirror.com\"\n",
    "\n",
    "# 检查环境变量是否设置成功\n",
    "print(os.environ[\"HF_ENDPOINT\"])\n",
    "# 设置 CUDA_VISIBLE_DEVICES 环境变量\n",
    "os.environ[\"CUDA_VISIBLE_DEVICES\"] = \"0\"\n",
    "\n",
    "\n",
    "\n",
    "if torch.cuda.is_available():\n",
    "    print(f\"Number of GPUs available: {torch.cuda.device_count()}\")\n",
    "    print(\"CUDA version:\", torch.version.cuda)\n",
    "    print(\"Device name:\", torch.cuda.get_device_name(0))\n",
    "else:\n",
    "    print(\"CUDA is not available. Check your installation and try again.\")\n"
   ]
  },
  {
   "cell_type": "code",
   "outputs": [
    {
     "data": {
      "text/plain": "[{'label': 'POSITIVE', 'score': 0.9598048329353333}]"
     },
     "execution_count": 15,
     "metadata": {},
     "output_type": "execute_result"
    }
   ],
   "source": [
    "classifier = pipeline(\"sentiment-analysis\", model=\"distilbert-base-uncased-finetuned-sst-2-english\")\n",
    "\n",
    "classifier(\"I've been waiting for a HuggingFace course my whole life.\")"
   ],
   "metadata": {
    "collapsed": false,
    "ExecuteTime": {
     "end_time": "2024-03-14T14:55:27.408340Z",
     "start_time": "2024-03-14T14:55:26.223726Z"
    }
   },
   "id": "12c631c3e06e706f",
   "execution_count": 15
  },
  {
   "cell_type": "code",
   "outputs": [
    {
     "data": {
      "text/plain": "[{'label': 'POSITIVE', 'score': 0.9598048329353333},\n {'label': 'NEGATIVE', 'score': 0.9994558691978455}]"
     },
     "execution_count": 16,
     "metadata": {},
     "output_type": "execute_result"
    }
   ],
   "source": [
    "classifier(\n",
    "    [\"I've been waiting for a HuggingFace course my whole life.\", \"I hate this so much!\"]\n",
    ")"
   ],
   "metadata": {
    "collapsed": false,
    "ExecuteTime": {
     "end_time": "2024-03-14T14:55:28.259629Z",
     "start_time": "2024-03-14T14:55:27.411134Z"
    }
   },
   "id": "da711919caa72e6d",
   "execution_count": 16
  },
  {
   "cell_type": "code",
   "outputs": [
    {
     "data": {
      "text/plain": "[{'label': 'POSITIVE', 'score': 0.9988415837287903}]"
     },
     "execution_count": 17,
     "metadata": {},
     "output_type": "execute_result"
    }
   ],
   "source": [
    "classifier(\n",
    " \"I am lingtao master\"\n",
    ")"
   ],
   "metadata": {
    "collapsed": false,
    "ExecuteTime": {
     "end_time": "2024-03-14T14:55:30.040819Z",
     "start_time": "2024-03-14T14:55:29.167591Z"
    }
   },
   "id": "d4cb8ecb25c00ed",
   "execution_count": 17
  },
  {
   "cell_type": "code",
   "outputs": [
    {
     "data": {
      "text/plain": "[{'label': 'NEGATIVE', 'score': 0.9993966817855835}]"
     },
     "execution_count": 18,
     "metadata": {},
     "output_type": "execute_result"
    }
   ],
   "source": [
    "classifier(\n",
    "    \"I am sading\"\n",
    ")"
   ],
   "metadata": {
    "collapsed": false,
    "ExecuteTime": {
     "end_time": "2024-03-14T14:55:30.880542Z",
     "start_time": "2024-03-14T14:55:30.042835Z"
    }
   },
   "id": "6b8c895c1a4dd850",
   "execution_count": 18
  },
  {
   "cell_type": "code",
   "outputs": [
    {
     "data": {
      "text/plain": "[{'label': 'NEGATIVE', 'score': 0.9995057582855225}]"
     },
     "execution_count": 19,
     "metadata": {},
     "output_type": "execute_result"
    }
   ],
   "source": [
    "classifier(\n",
    "    \"I get a apple from toilet\"\n",
    ")"
   ],
   "metadata": {
    "collapsed": false,
    "ExecuteTime": {
     "end_time": "2024-03-14T14:55:31.832383Z",
     "start_time": "2024-03-14T14:55:30.956487Z"
    }
   },
   "id": "f5caa2b7b0a5e3e4",
   "execution_count": 19
  },
  {
   "cell_type": "code",
   "outputs": [
    {
     "data": {
      "text/plain": "[{'label': 'POSITIVE', 'score': 0.9947863817214966}]"
     },
     "execution_count": 20,
     "metadata": {},
     "output_type": "execute_result"
    }
   ],
   "source": [
    "classifier(\n",
    "    \"I get a apple from a little boy\"\n",
    ")"
   ],
   "metadata": {
    "collapsed": false,
    "ExecuteTime": {
     "end_time": "2024-03-14T14:55:32.070359Z",
     "start_time": "2024-03-14T14:55:31.833802Z"
    }
   },
   "id": "f66fe02c9bd149dd",
   "execution_count": 20
  },
  {
   "cell_type": "code",
   "outputs": [
    {
     "data": {
      "text/plain": "[{'label': 'NEGATIVE', 'score': 0.8768509030342102}]"
     },
     "execution_count": 21,
     "metadata": {},
     "output_type": "execute_result"
    }
   ],
   "source": [
    "classifier(\n",
    "    \"我是孔令涛\"\n",
    ")"
   ],
   "metadata": {
    "collapsed": false,
    "ExecuteTime": {
     "end_time": "2024-03-14T14:55:32.777480Z",
     "start_time": "2024-03-14T14:55:32.301817Z"
    }
   },
   "id": "9e57131ce2d4c305",
   "execution_count": 21
  },
  {
   "cell_type": "code",
   "outputs": [],
   "source": [
    "# 文本分类"
   ],
   "metadata": {
    "collapsed": false,
    "ExecuteTime": {
     "end_time": "2024-03-14T14:55:32.901962Z",
     "start_time": "2024-03-14T14:55:32.894321Z"
    }
   },
   "id": "98148b01e1ed60b7",
   "execution_count": 22
  },
  {
   "cell_type": "code",
   "outputs": [
    {
     "name": "stderr",
     "output_type": "stream",
     "text": [
      "No model was supplied, defaulted to facebook/bart-large-mnli and revision c626438 (https://hf-mirror.com/facebook/bart-large-mnli).\n",
      "Using a pipeline without specifying a model name and revision in production is not recommended.\n"
     ]
    },
    {
     "data": {
      "text/plain": "{'sequence': 'This is a course about the Transformers library',\n 'labels': ['education', 'business', 'politics'],\n 'scores': [0.8445960283279419, 0.11197628080844879, 0.043427709490060806]}"
     },
     "execution_count": 23,
     "metadata": {},
     "output_type": "execute_result"
    }
   ],
   "source": [
    "classifier = pipeline(\"zero-shot-classification\")\n",
    "classifier(\n",
    "    \"This is a course about the Transformers library\",\n",
    "    candidate_labels=[\"education\", \"politics\", \"business\"],\n",
    ")"
   ],
   "metadata": {
    "collapsed": false,
    "ExecuteTime": {
     "end_time": "2024-03-14T14:55:38.317476Z",
     "start_time": "2024-03-14T14:55:33.621351Z"
    }
   },
   "id": "41ac3b4599b3ff03",
   "execution_count": 23
  },
  {
   "cell_type": "code",
   "outputs": [
    {
     "data": {
      "text/plain": "{'sequence': '我是西安交通大学的孔令涛硕士',\n 'labels': ['education', 'business', 'politics'],\n 'scores': [0.858680009841919, 0.11062318831682205, 0.030696818605065346]}"
     },
     "execution_count": 24,
     "metadata": {},
     "output_type": "execute_result"
    }
   ],
   "source": [
    "classifier(\n",
    "    \"我是西安交通大学的孔令涛硕士\",\n",
    "    candidate_labels=[\"education\", \"politics\", \"business\"],\n",
    ")"
   ],
   "metadata": {
    "collapsed": false,
    "ExecuteTime": {
     "end_time": "2024-03-14T14:55:43.743898Z",
     "start_time": "2024-03-14T14:55:38.319186Z"
    }
   },
   "id": "1a70dcf65e7925e6",
   "execution_count": 24
  },
  {
   "cell_type": "code",
   "outputs": [
    {
     "data": {
      "text/plain": "{'sequence': '我是令涛硕士。',\n 'labels': ['business', 'education', 'politics'],\n 'scores': [0.4734025001525879, 0.39843112230300903, 0.1281663328409195]}"
     },
     "execution_count": 25,
     "metadata": {},
     "output_type": "execute_result"
    }
   ],
   "source": [
    "classifier(\n",
    "    \"我是令涛硕士。\",\n",
    "    candidate_labels=[\"education\", \"politics\", \"business\"],\n",
    ")"
   ],
   "metadata": {
    "collapsed": false,
    "ExecuteTime": {
     "end_time": "2024-03-14T14:55:46.725201Z",
     "start_time": "2024-03-14T14:55:43.746317Z"
    }
   },
   "id": "d38de6915243e6b6",
   "execution_count": 25
  },
  {
   "cell_type": "markdown",
   "source": [
    "# 文本生成"
   ],
   "metadata": {
    "collapsed": false
   },
   "id": "b58aae891307302d"
  },
  {
   "cell_type": "code",
   "outputs": [
    {
     "name": "stderr",
     "output_type": "stream",
     "text": [
      "No model was supplied, defaulted to openai-community/gpt2 and revision 6c0e608 (https://hf-mirror.com/openai-community/gpt2).\n",
      "Using a pipeline without specifying a model name and revision in production is not recommended.\n"
     ]
    },
    {
     "data": {
      "text/plain": "model.safetensors:   0%|          | 0.00/548M [00:00<?, ?B/s]",
      "application/vnd.jupyter.widget-view+json": {
       "version_major": 2,
       "version_minor": 0,
       "model_id": "3ecefa07180f479893357b727cc8307f"
      }
     },
     "metadata": {},
     "output_type": "display_data"
    },
    {
     "data": {
      "text/plain": "generation_config.json:   0%|          | 0.00/124 [00:00<?, ?B/s]",
      "application/vnd.jupyter.widget-view+json": {
       "version_major": 2,
       "version_minor": 0,
       "model_id": "af49c4654ab043fdb984ef5d66262dfd"
      }
     },
     "metadata": {},
     "output_type": "display_data"
    },
    {
     "data": {
      "text/plain": "tokenizer_config.json:   0%|          | 0.00/26.0 [00:00<?, ?B/s]",
      "application/vnd.jupyter.widget-view+json": {
       "version_major": 2,
       "version_minor": 0,
       "model_id": "e65d8173c4f5425c84395b9f3d87d8b2"
      }
     },
     "metadata": {},
     "output_type": "display_data"
    },
    {
     "data": {
      "text/plain": "vocab.json: 0.00B [00:00, ?B/s]",
      "application/vnd.jupyter.widget-view+json": {
       "version_major": 2,
       "version_minor": 0,
       "model_id": "5fab9556a3cd4e4487a435cf97da3df1"
      }
     },
     "metadata": {},
     "output_type": "display_data"
    },
    {
     "data": {
      "text/plain": "merges.txt: 0.00B [00:00, ?B/s]",
      "application/vnd.jupyter.widget-view+json": {
       "version_major": 2,
       "version_minor": 0,
       "model_id": "6497f5713a9443d4ba5a3c6f340d43fb"
      }
     },
     "metadata": {},
     "output_type": "display_data"
    },
    {
     "data": {
      "text/plain": "tokenizer.json: 0.00B [00:00, ?B/s]",
      "application/vnd.jupyter.widget-view+json": {
       "version_major": 2,
       "version_minor": 0,
       "model_id": "660f8a1b731845079e7c9f3724958519"
      }
     },
     "metadata": {},
     "output_type": "display_data"
    },
    {
     "name": "stderr",
     "output_type": "stream",
     "text": [
      "Setting `pad_token_id` to `eos_token_id`:50256 for open-end generation.\n"
     ]
    },
    {
     "data": {
      "text/plain": "[{'generated_text': 'In this course, we will teach you how to control your own health, including taking effective steps to maintain it. This includes personal growth and self-growth, self-care to better understand your health issues, and improving your quality of life.'}]"
     },
     "execution_count": 26,
     "metadata": {},
     "output_type": "execute_result"
    }
   ],
   "source": [
    "generator = pipeline(\"text-generation\")\n",
    "generator(\"In this course, we will teach you how to\")"
   ],
   "metadata": {
    "collapsed": false,
    "ExecuteTime": {
     "end_time": "2024-03-14T14:56:56.878886Z",
     "start_time": "2024-03-14T14:55:46.728211Z"
    }
   },
   "id": "4ddae9e5276497c9",
   "execution_count": 26
  },
  {
   "cell_type": "code",
   "outputs": [
    {
     "name": "stderr",
     "output_type": "stream",
     "text": [
      "Setting `pad_token_id` to `eos_token_id`:50256 for open-end generation.\n"
     ]
    },
    {
     "data": {
      "text/plain": "[{'generated_text': '我是令涛硕士，我就读于西安交大。我师,在帉的其中宣亡�'}]"
     },
     "execution_count": 27,
     "metadata": {},
     "output_type": "execute_result"
    }
   ],
   "source": [
    "generator(\"我是令涛硕士，我就读于西安交大。\")\n"
   ],
   "metadata": {
    "collapsed": false,
    "ExecuteTime": {
     "end_time": "2024-03-14T14:56:58.388731Z",
     "start_time": "2024-03-14T14:56:56.880693Z"
    }
   },
   "id": "103c12cb46fd14d2",
   "execution_count": 27
  },
  {
   "cell_type": "code",
   "outputs": [
    {
     "name": "stderr",
     "output_type": "stream",
     "text": [
      "Setting `pad_token_id` to `eos_token_id`:50256 for open-end generation.\n"
     ]
    },
    {
     "data": {
      "text/plain": "[{'generated_text': 'I like eat apple \"\\n\\nSkipping off in that way is one of Lee\\'s favorite things to do, which he calls \"eating in a hurry.\" Here the two sit down and listen to the soundtrack of \"Blindspot.\"'}]"
     },
     "execution_count": 28,
     "metadata": {},
     "output_type": "execute_result"
    }
   ],
   "source": [
    "generator(\"I like eat apple \")"
   ],
   "metadata": {
    "collapsed": false,
    "ExecuteTime": {
     "end_time": "2024-03-14T14:57:22.906902Z",
     "start_time": "2024-03-14T14:57:19.296073Z"
    }
   },
   "id": "9b0805c5c79b7db8",
   "execution_count": 28
  },
  {
   "cell_type": "code",
   "outputs": [
    {
     "name": "stderr",
     "output_type": "stream",
     "text": [
      "Truncation was not explicitly activated but `max_length` is provided a specific value, please use `truncation=True` to explicitly truncate examples to max length. Defaulting to 'longest_first' truncation strategy. If you encode pairs of sequences (GLUE-style) with the tokenizer you can select this strategy more precisely by providing a specific strategy to `truncation`.\n",
      "Setting `pad_token_id` to `eos_token_id`:50256 for open-end generation.\n"
     ]
    },
    {
     "data": {
      "text/plain": "[{'generated_text': 'In this course, we will teach you how to learn how to read or write language using the language available, such as English, and how to understand'},\n {'generated_text': \"In this course, we will teach you how to code a Python application. If you don't know how to code Python, then you need to start\"}]"
     },
     "execution_count": 32,
     "metadata": {},
     "output_type": "execute_result"
    }
   ],
   "source": [
    "generator = pipeline(\"text-generation\", model=\"distilgpt2\")\n",
    "generator(\n",
    "    \"In this course, we will teach you how to\",\n",
    "    max_length=30,\n",
    "    num_return_sequences=2,\n",
    ")"
   ],
   "metadata": {
    "collapsed": false,
    "ExecuteTime": {
     "end_time": "2024-03-14T15:02:12.642954Z",
     "start_time": "2024-03-14T15:02:08.990135Z"
    }
   },
   "id": "fc528ca6e5e1e2ed",
   "execution_count": 32
  },
  {
   "cell_type": "code",
   "outputs": [
    {
     "name": "stderr",
     "output_type": "stream",
     "text": [
      "Truncation was not explicitly activated but `max_length` is provided a specific value, please use `truncation=True` to explicitly truncate examples to max length. Defaulting to 'longest_first' truncation strategy. If you encode pairs of sequences (GLUE-style) with the tokenizer you can select this strategy more precisely by providing a specific strategy to `truncation`.\n",
      "Setting `pad_token_id` to `eos_token_id`:50256 for open-end generation.\n"
     ]
    },
    {
     "data": {
      "text/plain": "[{'generated_text': 'In this course, we will teach you how to get around the problems of climate science. If you think you can get around these problems, read on to see if they can improve your approach.'},\n {'generated_text': 'In this course, we will teach you how to use the language by developing a vocabulary which is not available. Each week, we will focus on how to use the language by developing a vocabulary and using the other languages.\\n\\n\\nIn previous courses, I have used a grammar that is not used by most people, except for the French, Dutch, French, German, Spanish, French, German, Romanian, Portuguese, Italian and Italian.\\nThe first language to use is French, an Arabic dialect (see: Arabic & Persian by Elsai, who use French only and use English alone).\\nIn this course, we\\'ll show you how to use a different language in a language. We will introduce French and Portuguese as one of several languages that use the same vocabulary and with different meanings for each other.\\nIn these parts, we will try and explain how to use the language, how to use it, and to use how to use it. We will use vocabulary from French, Spanish, Italian, Italian and Portuguese.\\nOur main topics are to explain the syntax for English, French, Spanish, Italian and Chinese.\\nIn other words, we will show you how to use the language by following basic instructions.\\nLet\\'s say we want to use the French alphabet.\\nFirst, we want to create a word that we want to use.\\nFirst, we want to create the letter \"F\" on the right side. The letter \"L\" in the first part'},\n {'generated_text': 'In this course, we will teach you how to change the way people talk about their problems. So keep those examples short, as they provide a great way to look at common problems. These are really simple.\\n\\n\\nStep 2: Create a Web Service\\nStep 3: Create a Web Service\\nStep 4: Make a Web Service in Excel\\nStep 5: Create an Web Service for Web Applications\\nStep 6: Create a web Service in Excel\\nStep 7: Build a Web Service with JavaScript, CSS, HTML, and Vue\\nStep 8: Build a Web Service with CSS, CSS, HTML, and Vue\\nStep 9: Build a Web Service with JavaScript, CSS, HTML, and Vue\\nStep 10: Build a Web Service with JavaScript, CSS, HTML, and Vue\\nStep 11: Create a Web Service with JavaScript, CSS, HTML, and Vue\\nStep 12: Create an Web Service with JavaScript, CSS, HTML, and Vue\\nStep 13: Create a Web Service with JavaScript, CSS, HTML, and Vue\\nStep 14: Build an Web Service with JavaScript and Vue\\nStep 15: Build an Web Service with JavaScript, CSS, HTML, and Vue\\nStep 16: Build a Web Service with JavaScript, CSS, HTML, and Vue\\nStep 17: Create an Online Service with JavaScript, Vue, and Vue\\nStep 18: Create an Online Service with JavaScript, Vue, and Vue'},\n {'generated_text': 'In this course, we will teach you how to make small, flexible systems out of small parts, with an emphasis on building dynamic systems\\n\\nThe tutorial will be open source\\nWe recommend you download the first and highest level version of the tutorial for easy coding and coding\\nThe first demo can be found here: http://www.weep.info/index.php?p=1003026&l=11\\nThe second demo can be found here: http://www.weep.info/index.php?p=1003026&l=11'},\n {'generated_text': 'In this course, we will teach you how to use this program\\n\\n\\n\\n\\n\\n\\nTo follow the next course, you can also subscribe to the\\n\\n\\n\\n\\n\\n'},\n {'generated_text': \"In this course, we will teach you how to create a simple, simple version of a script. You may not believe it yet, with this tutorial that we will take a simple, easy, but simplified version of the Django script. You can just download the demo.\\n\\nThe main part of this tutorial is to take a real test environment which is simple to run in the test environment. The script will look for a lot of variables, the data and arguments are stored in a database and the results of the test will be stored in the database, so I created the sample code using the Django import.\\nYou will need to import some dependencies to make the project useful. Note that no required variables are in place.\\nThe source files that you can use can be found in the source folder.\\nimport url ; url. from ( 'www', '@', '@', '@', '@', '@', '@', '@', '@', '@', '@', '@', '@' ) import url ; url. from ( 'http://www.jordan.com/web.jordan/web.jordan/web.jordan/web.jordan/web.jordan/lz.jordan.java.js'. ) import url ; url. from ( 'http://www.jordan.com/web.jordan/web.jordan\"},\n {'generated_text': 'In this course, we will teach you how to be a good listener, both to the listener of the show, our audience and our host.”\\n\\nHere”, and”, the lesson is available for all attendees of this course.'},\n {'generated_text': 'In this course, we will teach you how to understand a key difference between a real one and a real one. There are other topics available in this course to add on to this course. The course will have lots of tutorials, tutorials, articles, and much more. You may also find many other things that we have included when writing this course.\\n\\n\\n\\n- All courses offered to the world are subject to change and the current and new methods of teaching are considered incorrect. In the most unlikely cases, we will provide your best understanding of a key difference between one and a real one.\\n- In this course our goal is to teach students to understand a core difference between a real one, or a real one. The focus is to be sure each language is on the same level as the other.\\nThis material will be posted on our facebook channel, or on your local site.'},\n {'generated_text': 'In this course, we will teach you how to create your unique new ideas on the internet. What does it mean to create a new digital company and create a product that has the promise of being free from the restrictions of personal security and the \"trust\" of the person it is protecting? We will present the course using interactive tools so we can use the learning power of creating content to help you design it yourself. This class will be developed with all the necessary tools like Photoshop, Photoshop, Flux and HTML5. We will give you a chance to teach you how to create your next blog.\\n\\n\\nIf you want to learn more about a project you can make sure to follow the course on our previous course on Learning to Become a Millionaire. As you will get a lot more info about our curriculum, we will be adding new content from our course, to be added to the course in the future. We will present you how to create your future life content by using this guide.\\nThe course will contain a number of different options where you can follow the course on your blog. Most importantly, what is \"how\"? This course offers new experiences by providing an understanding about the most important aspects of life and what makes your life better.\\nWhen you want to create the next blog you will be able to connect your new ideas on the online online platform to a new way of creating content without having to use your web browser just to download or modify your website. In this class'},\n {'generated_text': 'In this course, we will teach you how to handle a problem that, you can\\'t do without a knowledge of the problem.\\n\\n\\nWhat did you guys do?\\nHere\\'s some questions!\\nYou may be familiar with the many situations with the problems with the problem, but most of the problems are the ones that you see: what exactly needs to be addressed in the first place?\\nWhat is a problem?\\nThe problems that your problems ask of the problem in the first place cannot be addressed easily within the second. Thus, there can be no problem on the basis of the problem. When trying to solve the problem, the answer is simple: that there is one important problem that is a problem that you have to solve successfully.\\nWhere does \"how can you solve the problem?\".\\nWhy does \"how can you solve it?\".\\nIn our introduction, it\\'s simple. It\\'s easy to solve the problem by simply adding, subtracting, and subtracting. As you understand the problem, it\\'s possible to solve the problem by simply adding, subtracting, and subtracting the results of, subtracting, and subtracting. This makes the problem easier and easier to solve the problem by simply adding, subtracting, and subtracting.\\nSo, let\\'s start by the problem, the problem.\\nIn order to solve the problem, you must do everything you can to solve it.\\nAdd and subtract the other variables that you wish to solve the problem'},\n {'generated_text': 'In this course, we will teach you how to get information from the public about public health, the political economy, and most important issues of the next four years, to keep you engaged in learning more about the state of the health care system, and the future of Medicare.\\n\\n\\n\\n\\nWe will also be learning and continuing to learn about the latest in the Public Health Movement.'},\n {'generated_text': 'In this course, we will teach you how to do these various types of tasks, and we will provide some examples how you can make them easier by using CSS CSS, and create your own classes and components.\\n\\n\\n\\nIn this course we will be building a collection of the basic class classes from our own CSS classes. In Part 2 of this course you will learn how to create one of our following classes and add it to any class or component that is available in our project. The above classes are meant to be a very basic class, but as well as a very advanced class of CSS classes.\\nEach class in the class will be assigned a special meaning within the class. The following example will take you through the following:\\nclass class class class class class class class class class class class class class class class class class class class class class class class class class class class class class class class class class class class class class class class class class class class class class class class class class class class class class class class class class class class class class class class class class class class class class class class class class class class class class class class class class class class class class class class class class class class class class class class class class class class class class class class class class class class class class class class class class class class class class class class class class class class class class class class class class class class class class class class class class class class class class class class class class class class class class class'},\n {'generated_text': \"In this course, we will teach you how to make your own digital products: free online. How to make your first app with Free Web Services and Free Web Service will teach you how to make your own free apps with Free Web Services and Free Web Service will teach you how to make your own free apps with Free Web Service.\\n\\n\\n\\nThe curriculum is presented in English and will take you through the basics:\\nLearn how to create, store and maintain your apps\\nSet the best practices so that you meet your needs at a specific time and that will make life easier for clients.\\nLearn how to create, store and maintain your apps and make the best use of free web service with Free Web Service.\\nUse Free Web Services in order to do so. Free Web Services will deliver great quality software by providing an open source project on the company website.\\nDownload Free Web Services for you when you are ready for a $7,000 purchase.\\nVisit Free Web Services for free on your website for free on your website.\\nDownload Free Web Services for free on your website for free on your website for free on your website for free on your website.\\nShare this: Facebook\\nTwitter\\n\\n\\n\\n\\n\\n\\n\\n\\nEmail\\nWe hope you enjoyed this course, too! I'd like to encourage you to read it once you've completed your course.\\nAlso, make sure you're getting your free web service free to yourself.\"},\n {'generated_text': 'In this course, we will teach you how to use the tools to identify and identify the components which will affect your system, then use our knowledge on how to apply them.\\n\\n\\nAs a final note, as well as some of the examples above, we welcome your feedback in the comments below.\\nAdvertisements'},\n {'generated_text': 'In this course, we will teach you how to manipulate a number of basic functions in your web application (especially using the web app) and build your own UI (with the same approach). The course features free hands-on demo with a demo with a demo, a tutorial and more (as well as a tutorial on how to do it). (Be sure to check the book if you have any questions or would like to learn more, so we ask you to help us cover that).\\n\\n\\n\\nTo get started, if you have any questions or suggestions about this course, please feel free to submit a comment below! If you have any questions you would like to share, let us know in the comments!\\nAnd thank you for your participation!'},\n {'generated_text': 'In this course, we will teach you how to build and create a custom-built game that will let people create their own games as well as make their own PC gaming experiences. You will also teach you how to build a custom-built game where developers can create their own games using a built-in, single-player combat system. You\\'ll also teach you how to build and create a custom-built game that will let people create their own games via Steam, GameMaker, and the like.\\n\\n\\n\\n\\nAtmosphere in the Future\\nIn May, some thought that maybe the PC experience in the future would be dominated by the more powerful Steam games. I heard that a few years back a game on Steam announced that it would be taking the form of an \"all-in-one \" multiplayer mode\" option, and the team at Microsoft was asking how it would work on any PC.\\nAt this point, we had all thought that there would be no game built using both this system and Steam\\'s native-compatibility. In fact, we were right. There is only one other game we had in memory on that line.\\nWhat were your thoughts on moving from the PS2 and Xbox One on the way down to VR?\\nI think it\\'s going to be a good game. It\\'s really going to be about making a game that actually feels really good and accessible. As much as I love games, I love the graphics, but that\\'s not'},\n {'generated_text': 'In this course, we will teach you how to make yourself an independent living. If you just want to learn the basic principles of success, then we recommend this course by giving you a first pass.'},\n {'generated_text': \"In this course, we will teach you how to create a great web app. Click here to create a great app, the app will load automatically, you don't need any registration or no registration.\\n\\n\\n\\n\\nStep 5: Create a new web application\\nHere is what we will do:\\nStep 6: Create a new user interface/account of your choice.\\nStep 7: Create a new admin interface for your site\\nHere is where you can add a new user interface/account to your web app\\nHere is a link to the web app\\nYou should be able to navigate through the full page at the end of the tutorial.\"},\n {'generated_text': 'In this course, we will teach you how to practice using an email address in order to generate a link.\\n\\n\\n\\n\\nIn this course, you will learn how you can start using an email address in order to generate a link. This will help you understand how to manage any of the steps mentioned above from your own point of view.\\nIn this course, we will learn how to integrate you with multiple email address types to create an email address. For example, send an email address that will be the subject of this course of course of course of course of course of course of course of course of course of course of course of course of course of course of course of course of course of course of course of course of course of course of course of course of course of course of course of course of course of course of course of course of course of course of course of course of course of course of course of course of course of course of course of course of course of course of course of course of course of course of course of course of course of course of course of course of course of course of course of course of course of course of course of course of course of course of course of course of course of course of course of course of course of course of course of course of course of course of course of course of course of course of course of course of course of course of course of course of course of course of course of course of course of course of course of course of course'},\n {'generated_text': 'In this course, we will teach you how to get behind the decks that will challenge you all. While you need to be familiar with the game, you will need to understand the deck for an experienced runner. This course teaches you how to get behind the decks that will challenge you all. While you need to be familiar with the game, you will need to understand the deck for an experienced runner. This course teaches you how to get behind the decks that will challenge you all. While you need to be familiar with the game, you will need to be familiar with the game, you will need to be familiar with the game, you will need to be familiar with the game, you will need to be familiar with the game, you will need to be familiar with the game, you will need to be familiar with the game, you will need to be familiar with the game, you will need to be familiar with the game, you will need to be familiar with the game, you will need to be familiar with the game, you will need to be familiar with the game, you will be familiar with the game, you will need to be familiar with the game, you will need to be familiar with the game, you will need to be familiar with the game, you will need to be familiar with the game, you will need to be familiar with the game, you will need to be familiar with the game, you will need to be familiar with the game, you will need to be familiar'}]"
     },
     "execution_count": 34,
     "metadata": {},
     "output_type": "execute_result"
    }
   ],
   "source": [
    "generator = pipeline(\"text-generation\", model=\"distilgpt2\",device=0)\n",
    "generator(\n",
    "    \"In this course, we will teach you how to\",\n",
    "    max_length=300,\n",
    "    num_return_sequences=20,\n",
    ")"
   ],
   "metadata": {
    "collapsed": false,
    "ExecuteTime": {
     "end_time": "2024-03-14T15:03:22.002632Z",
     "start_time": "2024-03-14T15:03:13.771408Z"
    }
   },
   "id": "6d4132549c443a72",
   "execution_count": 34
  },
  {
   "cell_type": "code",
   "outputs": [
    {
     "name": "stderr",
     "output_type": "stream",
     "text": [
      "No model was supplied, defaulted to distilbert/distilroberta-base and revision ec58a5b (https://hf-mirror.com/distilbert/distilroberta-base).\n",
      "Using a pipeline without specifying a model name and revision in production is not recommended.\n"
     ]
    },
    {
     "data": {
      "text/plain": "model.safetensors:   0%|          | 0.00/331M [00:00<?, ?B/s]",
      "application/vnd.jupyter.widget-view+json": {
       "version_major": 2,
       "version_minor": 0,
       "model_id": "fdddd21bf98b434a88a0294133f858cd"
      }
     },
     "metadata": {},
     "output_type": "display_data"
    },
    {
     "name": "stderr",
     "output_type": "stream",
     "text": [
      "Some weights of the model checkpoint at distilbert/distilroberta-base were not used when initializing RobertaForMaskedLM: ['roberta.pooler.dense.bias', 'roberta.pooler.dense.weight']\n",
      "- This IS expected if you are initializing RobertaForMaskedLM from the checkpoint of a model trained on another task or with another architecture (e.g. initializing a BertForSequenceClassification model from a BertForPreTraining model).\n",
      "- This IS NOT expected if you are initializing RobertaForMaskedLM from the checkpoint of a model that you expect to be exactly identical (initializing a BertForSequenceClassification model from a BertForSequenceClassification model).\n"
     ]
    },
    {
     "data": {
      "text/plain": "tokenizer_config.json:   0%|          | 0.00/25.0 [00:00<?, ?B/s]",
      "application/vnd.jupyter.widget-view+json": {
       "version_major": 2,
       "version_minor": 0,
       "model_id": "c831e68946f047a399dadd231f565209"
      }
     },
     "metadata": {},
     "output_type": "display_data"
    },
    {
     "data": {
      "text/plain": "vocab.json: 0.00B [00:00, ?B/s]",
      "application/vnd.jupyter.widget-view+json": {
       "version_major": 2,
       "version_minor": 0,
       "model_id": "20d27953bfd542eb953e27a4883d73e6"
      }
     },
     "metadata": {},
     "output_type": "display_data"
    },
    {
     "data": {
      "text/plain": "merges.txt: 0.00B [00:00, ?B/s]",
      "application/vnd.jupyter.widget-view+json": {
       "version_major": 2,
       "version_minor": 0,
       "model_id": "edbd2e37e0b1421bac69ca766810cd5f"
      }
     },
     "metadata": {},
     "output_type": "display_data"
    },
    {
     "data": {
      "text/plain": "tokenizer.json: 0.00B [00:00, ?B/s]",
      "application/vnd.jupyter.widget-view+json": {
       "version_major": 2,
       "version_minor": 0,
       "model_id": "1781f6577fe447e899ac4e3251f53dd2"
      }
     },
     "metadata": {},
     "output_type": "display_data"
    },
    {
     "data": {
      "text/plain": "[{'score': 0.19619712233543396,\n  'token': 30412,\n  'token_str': ' mathematical',\n  'sequence': 'This course will teach you all about mathematical models.'},\n {'score': 0.04052708297967911,\n  'token': 38163,\n  'token_str': ' computational',\n  'sequence': 'This course will teach you all about computational models.'}]"
     },
     "execution_count": 36,
     "metadata": {},
     "output_type": "execute_result"
    }
   ],
   "source": [
    " \n",
    "\n",
    "unmasker = pipeline(\"fill-mask\",device=0)\n",
    "unmasker(\"This course will teach you all about <mask> models.\", top_k=2)"
   ],
   "metadata": {
    "collapsed": false,
    "ExecuteTime": {
     "end_time": "2024-03-14T15:05:49.253175Z",
     "start_time": "2024-03-14T15:04:30.426077Z"
    }
   },
   "id": "4f6dc5d3e0188869",
   "execution_count": 36
  },
  {
   "cell_type": "code",
   "outputs": [
    {
     "data": {
      "text/plain": "[{'score': 0.14672788977622986,\n  'token': 48827,\n  'token_str': '上',\n  'sequence': '我早上喜欢吃苹果和上。'},\n {'score': 0.12378136068582535,\n  'token': 47643,\n  'token_str': '中',\n  'sequence': '我早上喜欢吃苹果和中。'}]"
     },
     "execution_count": 38,
     "metadata": {},
     "output_type": "execute_result"
    }
   ],
   "source": [
    "unmasker(\"我早上喜欢吃苹果和<mask>。\", top_k=2)"
   ],
   "metadata": {
    "collapsed": false,
    "ExecuteTime": {
     "end_time": "2024-03-14T15:07:06.538741Z",
     "start_time": "2024-03-14T15:07:06.490179Z"
    }
   },
   "id": "e53d1ad079d6e6d3",
   "execution_count": 38
  },
  {
   "cell_type": "code",
   "outputs": [],
   "source": [
    "ner = pipeline(\"ner\", grouped_entities=True,device=0)\n",
    "ner(\"My name is Sylvain and I work at Hugging Face in Brooklyn.\")"
   ],
   "metadata": {
    "collapsed": false
   },
   "id": "507fef23c7c5b615",
   "execution_count": null
  },
  {
   "cell_type": "code",
   "outputs": [
    {
     "data": {
      "text/plain": "[{'entity_group': 'PER',\n  'score': 0.8838808,\n  'word': 'LingTao',\n  'start': 11,\n  'end': 18}]"
     },
     "execution_count": 42,
     "metadata": {},
     "output_type": "execute_result"
    }
   ],
   "source": [
    "ner(\"My name is LingTao\")"
   ],
   "metadata": {
    "collapsed": false,
    "ExecuteTime": {
     "end_time": "2024-03-14T15:15:00.630579Z",
     "start_time": "2024-03-14T15:15:00.585878Z"
    }
   },
   "id": "81bb7c81f5ffcf07",
   "execution_count": 42
  },
  {
   "cell_type": "code",
   "outputs": [
    {
     "name": "stderr",
     "output_type": "stream",
     "text": [
      "No model was supplied, defaulted to distilbert/distilbert-base-cased-distilled-squad and revision 626af31 (https://hf-mirror.com/distilbert/distilbert-base-cased-distilled-squad).\n",
      "Using a pipeline without specifying a model name and revision in production is not recommended.\n"
     ]
    },
    {
     "data": {
      "text/plain": "model.safetensors:   0%|          | 0.00/261M [00:00<?, ?B/s]",
      "application/vnd.jupyter.widget-view+json": {
       "version_major": 2,
       "version_minor": 0,
       "model_id": "7798f061fcb6496c87fe0d0c2e342a1f"
      }
     },
     "metadata": {},
     "output_type": "display_data"
    },
    {
     "data": {
      "text/plain": "tokenizer_config.json:   0%|          | 0.00/29.0 [00:00<?, ?B/s]",
      "application/vnd.jupyter.widget-view+json": {
       "version_major": 2,
       "version_minor": 0,
       "model_id": "e815e2e8983f453689852fc0b4ff4f9e"
      }
     },
     "metadata": {},
     "output_type": "display_data"
    },
    {
     "data": {
      "text/plain": "vocab.txt: 0.00B [00:00, ?B/s]",
      "application/vnd.jupyter.widget-view+json": {
       "version_major": 2,
       "version_minor": 0,
       "model_id": "edaa232930c346a2ab731fbc439b905c"
      }
     },
     "metadata": {},
     "output_type": "display_data"
    },
    {
     "data": {
      "text/plain": "tokenizer.json: 0.00B [00:00, ?B/s]",
      "application/vnd.jupyter.widget-view+json": {
       "version_major": 2,
       "version_minor": 0,
       "model_id": "921e925ac6e04f119ecfaec699e00e23"
      }
     },
     "metadata": {},
     "output_type": "display_data"
    }
   ],
   "source": [
    "question_answerer = pipeline(\"question-answering\",device=0)"
   ],
   "metadata": {
    "collapsed": false,
    "ExecuteTime": {
     "end_time": "2024-03-14T15:15:55.779788Z",
     "start_time": "2024-03-14T15:15:06.775258Z"
    }
   },
   "id": "309dad46ca41e85a",
   "execution_count": 43
  },
  {
   "cell_type": "code",
   "outputs": [
    {
     "name": "stderr",
     "output_type": "stream",
     "text": [
      "No model was supplied, defaulted to sshleifer/distilbart-cnn-12-6 and revision a4f8f3e (https://hf-mirror.com/sshleifer/distilbart-cnn-12-6).\n",
      "Using a pipeline without specifying a model name and revision in production is not recommended.\n"
     ]
    },
    {
     "data": {
      "text/plain": "config.json:   0%|          | 0.00/692 [00:00<?, ?B/s]",
      "application/vnd.jupyter.widget-view+json": {
       "version_major": 2,
       "version_minor": 0,
       "model_id": "535f58fc5ff14288a42123783d10efe6"
      }
     },
     "metadata": {},
     "output_type": "display_data"
    },
    {
     "data": {
      "text/plain": "pytorch_model.bin:   0%|          | 0.00/1.22G [00:00<?, ?B/s]",
      "application/vnd.jupyter.widget-view+json": {
       "version_major": 2,
       "version_minor": 0,
       "model_id": "5f169ad0d1c44ec3a90b6a5a626f43a1"
      }
     },
     "metadata": {},
     "output_type": "display_data"
    },
    {
     "data": {
      "text/plain": "tokenizer_config.json:   0%|          | 0.00/26.0 [00:00<?, ?B/s]",
      "application/vnd.jupyter.widget-view+json": {
       "version_major": 2,
       "version_minor": 0,
       "model_id": "c904abd52000477baef30c2ac2776174"
      }
     },
     "metadata": {},
     "output_type": "display_data"
    },
    {
     "data": {
      "text/plain": "vocab.json: 0.00B [00:00, ?B/s]",
      "application/vnd.jupyter.widget-view+json": {
       "version_major": 2,
       "version_minor": 0,
       "model_id": "28531adc7b7e4f2ab8831d165f2726b9"
      }
     },
     "metadata": {},
     "output_type": "display_data"
    },
    {
     "data": {
      "text/plain": "merges.txt: 0.00B [00:00, ?B/s]",
      "application/vnd.jupyter.widget-view+json": {
       "version_major": 2,
       "version_minor": 0,
       "model_id": "7fdf163b20c74128a9a4bb05e6602fb5"
      }
     },
     "metadata": {},
     "output_type": "display_data"
    }
   ],
   "source": [
    "summarizer = pipeline(\"summarization\")\n"
   ],
   "metadata": {
    "collapsed": false,
    "ExecuteTime": {
     "end_time": "2024-03-14T15:19:49.486560Z",
     "start_time": "2024-03-14T15:15:55.782823Z"
    }
   },
   "id": "92c7b5b4f040272e",
   "execution_count": 44
  },
  {
   "cell_type": "markdown",
   "source": [
    "# 实体识别 shibing624/bert4ner-base-chinese"
   ],
   "metadata": {
    "collapsed": false
   },
   "id": "cc5340f2b8ae0392"
  },
  {
   "cell_type": "code",
   "outputs": [
    {
     "data": {
      "text/plain": "config.json:   0%|          | 0.00/532 [00:00<?, ?B/s]",
      "application/vnd.jupyter.widget-view+json": {
       "version_major": 2,
       "version_minor": 0,
       "model_id": "3fb57d07bbd9491aa5d00e3099d60450"
      }
     },
     "metadata": {},
     "output_type": "display_data"
    },
    {
     "data": {
      "text/plain": "model.safetensors:   0%|          | 0.00/407M [00:00<?, ?B/s]",
      "application/vnd.jupyter.widget-view+json": {
       "version_major": 2,
       "version_minor": 0,
       "model_id": "2790e848ec1a4f69b07882e0f5817769"
      }
     },
     "metadata": {},
     "output_type": "display_data"
    },
    {
     "data": {
      "text/plain": "tokenizer_config.json:   0%|          | 0.00/370 [00:00<?, ?B/s]",
      "application/vnd.jupyter.widget-view+json": {
       "version_major": 2,
       "version_minor": 0,
       "model_id": "aef64d4d12444321a3e692be0846dc55"
      }
     },
     "metadata": {},
     "output_type": "display_data"
    },
    {
     "data": {
      "text/plain": "vocab.txt: 0.00B [00:00, ?B/s]",
      "application/vnd.jupyter.widget-view+json": {
       "version_major": 2,
       "version_minor": 0,
       "model_id": "90f68ae0826a4f60931010f29fa931c6"
      }
     },
     "metadata": {},
     "output_type": "display_data"
    },
    {
     "data": {
      "text/plain": "special_tokens_map.json:   0%|          | 0.00/112 [00:00<?, ?B/s]",
      "application/vnd.jupyter.widget-view+json": {
       "version_major": 2,
       "version_minor": 0,
       "model_id": "86dcd8cd6dec4ec69fef48905ec449bd"
      }
     },
     "metadata": {},
     "output_type": "display_data"
    }
   ],
   "source": [
    "ner = pipeline(\"ner\", model=\"shibing624/bert4ner-base-chinese\",device=0)"
   ],
   "metadata": {
    "collapsed": false,
    "ExecuteTime": {
     "end_time": "2024-03-14T15:23:39.269606Z",
     "start_time": "2024-03-14T15:22:36.071019Z"
    }
   },
   "id": "43fabc180279b8f3",
   "execution_count": 45
  },
  {
   "cell_type": "code",
   "outputs": [
    {
     "data": {
      "text/plain": "[{'entity': 'B-PER',\n  'score': 0.99982256,\n  'index': 3,\n  'word': '孔',\n  'start': 2,\n  'end': 3},\n {'entity': 'I-PER',\n  'score': 0.9998381,\n  'index': 4,\n  'word': '令',\n  'start': 3,\n  'end': 4},\n {'entity': 'I-PER',\n  'score': 0.99990463,\n  'index': 5,\n  'word': '涛',\n  'start': 4,\n  'end': 5},\n {'entity': 'B-ORG',\n  'score': 0.99617827,\n  'index': 11,\n  'word': '西',\n  'start': 10,\n  'end': 11},\n {'entity': 'I-ORG',\n  'score': 0.99722326,\n  'index': 12,\n  'word': '安',\n  'start': 11,\n  'end': 12},\n {'entity': 'I-ORG',\n  'score': 0.9936413,\n  'index': 13,\n  'word': '交',\n  'start': 12,\n  'end': 13},\n {'entity': 'I-ORG',\n  'score': 0.9962859,\n  'index': 14,\n  'word': '大',\n  'start': 13,\n  'end': 14}]"
     },
     "execution_count": 46,
     "metadata": {},
     "output_type": "execute_result"
    }
   ],
   "source": [
    "ner(\"我是孔令涛硕士，来自西安交大。\")"
   ],
   "metadata": {
    "collapsed": false,
    "ExecuteTime": {
     "end_time": "2024-03-14T15:24:55.713158Z",
     "start_time": "2024-03-14T15:24:55.669508Z"
    }
   },
   "id": "a00681dac1859007",
   "execution_count": 46
  },
  {
   "cell_type": "code",
   "outputs": [],
   "source": [],
   "metadata": {
    "collapsed": false
   },
   "id": "6e97b26d7705e907"
  }
 ],
 "metadata": {
  "kernelspec": {
   "display_name": "Python 3",
   "language": "python",
   "name": "python3"
  },
  "language_info": {
   "codemirror_mode": {
    "name": "ipython",
    "version": 2
   },
   "file_extension": ".py",
   "mimetype": "text/x-python",
   "name": "python",
   "nbconvert_exporter": "python",
   "pygments_lexer": "ipython2",
   "version": "2.7.6"
  }
 },
 "nbformat": 4,
 "nbformat_minor": 5
}
