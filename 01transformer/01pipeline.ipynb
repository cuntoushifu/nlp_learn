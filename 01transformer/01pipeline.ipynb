{
 "cells": [
  {
   "cell_type": "code",
   "execution_count": 37,
   "id": "7138d8cf7c956ade",
   "metadata": {
    "collapsed": false,
    "ExecuteTime": {
     "end_time": "2024-03-15T04:58:13.455114Z",
     "start_time": "2024-03-15T04:58:10.091682Z"
    }
   },
   "outputs": [
    {
     "name": "stdout",
     "output_type": "stream",
     "text": [
      "Looking in indexes: http://mirrors.aliyun.com/pypi/simple/\r\n",
      "Requirement already satisfied: sentencepiece in ./miniconda3/lib/python3.10/site-packages (0.1.99)\r\n",
      "\u001B[33mWARNING: Running pip as the 'root' user can result in broken permissions and conflicting behaviour with the system package manager. It is recommended to use a virtual environment instead: https://pip.pypa.io/warnings/venv\u001B[0m\u001B[33m\r\n",
      "\u001B[0m"
     ]
    }
   ],
   "source": [
    "!pip install sentencepiece\n"
   ]
  },
  {
   "cell_type": "code",
   "outputs": [
    {
     "name": "stdout",
     "output_type": "stream",
     "text": [
      "https://hf-mirror.com\n",
      "Number of GPUs available: 1\n",
      "CUDA version: 12.1\n",
      "Device name: NVIDIA RTX A6000\n"
     ]
    }
   ],
   "source": [
    "import os\n",
    "from transformers import pipeline\n",
    "import torch\n",
    "\n",
    "# cache_dir = \"/Users/yangye/models\"\n",
    "\n",
    "\n",
    "# 设置环境变量\n",
    "# os.environ[\"HF_ENDPOINT\"] = \"https://hf-mirror.com\"\n",
    "\n",
    "# 检查环境变量是否设置成功\n",
    "print(os.environ[\"HF_ENDPOINT\"])\n",
    "# 设置 CUDA_VISIBLE_DEVICES 环境变量\n",
    "os.environ[\"CUDA_VISIBLE_DEVICES\"] = \"0\"\n",
    "\n",
    "\n",
    "\n",
    "if torch.cuda.is_available():\n",
    "    print(f\"Number of GPUs available: {torch.cuda.device_count()}\")\n",
    "    print(\"CUDA version:\", torch.version.cuda)\n",
    "    print(\"Device name:\", torch.cuda.get_device_name(0))\n",
    "else:\n",
    "    print(\"CUDA is not available. Check your installation and try again.\")\n"
   ],
   "metadata": {
    "collapsed": true,
    "ExecuteTime": {
     "end_time": "2024-03-15T04:58:13.478496Z",
     "start_time": "2024-03-15T04:58:13.462494Z"
    }
   },
   "id": "initial_id",
   "execution_count": 38
  },
  {
   "cell_type": "code",
   "outputs": [
    {
     "data": {
      "text/plain": "[{'label': 'POSITIVE', 'score': 0.9598048329353333}]"
     },
     "execution_count": 39,
     "metadata": {},
     "output_type": "execute_result"
    }
   ],
   "source": [
    "classifier = pipeline(\"sentiment-analysis\", model=\"distilbert-base-uncased-finetuned-sst-2-english\")\n",
    "\n",
    "classifier(\"I've been waiting for a HuggingFace course my whole life.\")"
   ],
   "metadata": {
    "collapsed": false,
    "ExecuteTime": {
     "end_time": "2024-03-15T04:58:14.298147Z",
     "start_time": "2024-03-15T04:58:13.482545Z"
    }
   },
   "id": "12c631c3e06e706f",
   "execution_count": 39
  },
  {
   "cell_type": "code",
   "outputs": [
    {
     "data": {
      "text/plain": "[{'label': 'POSITIVE', 'score': 0.9598048329353333},\n {'label': 'NEGATIVE', 'score': 0.9994558691978455}]"
     },
     "execution_count": 40,
     "metadata": {},
     "output_type": "execute_result"
    }
   ],
   "source": [
    "classifier(\n",
    "    [\"I've been waiting for a HuggingFace course my whole life.\", \"I hate this so much!\"]\n",
    ")"
   ],
   "metadata": {
    "collapsed": false,
    "ExecuteTime": {
     "end_time": "2024-03-15T04:58:14.413054Z",
     "start_time": "2024-03-15T04:58:14.299739Z"
    }
   },
   "id": "da711919caa72e6d",
   "execution_count": 40
  },
  {
   "cell_type": "code",
   "outputs": [
    {
     "data": {
      "text/plain": "[{'label': 'POSITIVE', 'score': 0.9988415837287903}]"
     },
     "execution_count": 41,
     "metadata": {},
     "output_type": "execute_result"
    }
   ],
   "source": [
    "classifier(\n",
    " \"I am lingtao master\"\n",
    ")"
   ],
   "metadata": {
    "collapsed": false,
    "ExecuteTime": {
     "end_time": "2024-03-15T04:58:14.439615Z",
     "start_time": "2024-03-15T04:58:14.415372Z"
    }
   },
   "id": "d4cb8ecb25c00ed",
   "execution_count": 41
  },
  {
   "cell_type": "code",
   "outputs": [
    {
     "data": {
      "text/plain": "[{'label': 'NEGATIVE', 'score': 0.9993966817855835}]"
     },
     "execution_count": 42,
     "metadata": {},
     "output_type": "execute_result"
    }
   ],
   "source": [
    "classifier(\n",
    "    \"I am sading\"\n",
    ")"
   ],
   "metadata": {
    "collapsed": false,
    "ExecuteTime": {
     "end_time": "2024-03-15T04:58:14.482574Z",
     "start_time": "2024-03-15T04:58:14.440879Z"
    }
   },
   "id": "6b8c895c1a4dd850",
   "execution_count": 42
  },
  {
   "cell_type": "code",
   "outputs": [
    {
     "data": {
      "text/plain": "[{'label': 'NEGATIVE', 'score': 0.9995057582855225}]"
     },
     "execution_count": 43,
     "metadata": {},
     "output_type": "execute_result"
    }
   ],
   "source": [
    "classifier(\n",
    "    \"I get a apple from toilet\"\n",
    ")"
   ],
   "metadata": {
    "collapsed": false,
    "ExecuteTime": {
     "end_time": "2024-03-15T04:58:14.523593Z",
     "start_time": "2024-03-15T04:58:14.484126Z"
    }
   },
   "id": "f5caa2b7b0a5e3e4",
   "execution_count": 43
  },
  {
   "cell_type": "code",
   "outputs": [
    {
     "data": {
      "text/plain": "[{'label': 'POSITIVE', 'score': 0.9947863817214966}]"
     },
     "execution_count": 44,
     "metadata": {},
     "output_type": "execute_result"
    }
   ],
   "source": [
    "classifier(\n",
    "    \"I get a apple from a little boy\"\n",
    ")"
   ],
   "metadata": {
    "collapsed": false,
    "ExecuteTime": {
     "end_time": "2024-03-15T04:58:14.928602Z",
     "start_time": "2024-03-15T04:58:14.526499Z"
    }
   },
   "id": "f66fe02c9bd149dd",
   "execution_count": 44
  },
  {
   "cell_type": "code",
   "outputs": [
    {
     "data": {
      "text/plain": "[{'label': 'NEGATIVE', 'score': 0.8768509030342102}]"
     },
     "execution_count": 45,
     "metadata": {},
     "output_type": "execute_result"
    }
   ],
   "source": [
    "classifier(\n",
    "    \"我是孔令涛\"\n",
    ")"
   ],
   "metadata": {
    "collapsed": false,
    "ExecuteTime": {
     "end_time": "2024-03-15T04:58:15.114694Z",
     "start_time": "2024-03-15T04:58:14.929666Z"
    }
   },
   "id": "9e57131ce2d4c305",
   "execution_count": 45
  },
  {
   "cell_type": "code",
   "outputs": [],
   "source": [
    "# 文本分类"
   ],
   "metadata": {
    "collapsed": false,
    "ExecuteTime": {
     "end_time": "2024-03-15T04:58:15.119220Z",
     "start_time": "2024-03-15T04:58:15.116086Z"
    }
   },
   "id": "98148b01e1ed60b7",
   "execution_count": 46
  },
  {
   "cell_type": "code",
   "outputs": [
    {
     "name": "stderr",
     "output_type": "stream",
     "text": [
      "No model was supplied, defaulted to facebook/bart-large-mnli and revision c626438 (https://hf-mirror.com/facebook/bart-large-mnli).\n",
      "Using a pipeline without specifying a model name and revision in production is not recommended.\n"
     ]
    },
    {
     "data": {
      "text/plain": "{'sequence': 'This is a course about the Transformers library',\n 'labels': ['education', 'business', 'politics'],\n 'scores': [0.8445960283279419, 0.11197628080844879, 0.043427709490060806]}"
     },
     "execution_count": 47,
     "metadata": {},
     "output_type": "execute_result"
    }
   ],
   "source": [
    "classifier = pipeline(\"zero-shot-classification\")\n",
    "classifier(\n",
    "    \"This is a course about the Transformers library\",\n",
    "    candidate_labels=[\"education\", \"politics\", \"business\"],\n",
    ")"
   ],
   "metadata": {
    "collapsed": false,
    "ExecuteTime": {
     "end_time": "2024-03-15T04:58:18.903518Z",
     "start_time": "2024-03-15T04:58:15.120798Z"
    }
   },
   "id": "41ac3b4599b3ff03",
   "execution_count": 47
  },
  {
   "cell_type": "code",
   "outputs": [
    {
     "data": {
      "text/plain": "{'sequence': '我是西安交通大学的孔令涛硕士',\n 'labels': ['education', 'business', 'politics'],\n 'scores': [0.858680009841919, 0.11062318831682205, 0.030696818605065346]}"
     },
     "execution_count": 48,
     "metadata": {},
     "output_type": "execute_result"
    }
   ],
   "source": [
    "classifier(\n",
    "    \"我是西安交通大学的孔令涛硕士\",\n",
    "    candidate_labels=[\"education\", \"politics\", \"business\"],\n",
    ")"
   ],
   "metadata": {
    "collapsed": false,
    "ExecuteTime": {
     "end_time": "2024-03-15T04:58:22.123087Z",
     "start_time": "2024-03-15T04:58:18.904932Z"
    }
   },
   "id": "1a70dcf65e7925e6",
   "execution_count": 48
  },
  {
   "cell_type": "code",
   "outputs": [
    {
     "data": {
      "text/plain": "{'sequence': '我是令涛硕士。',\n 'labels': ['business', 'education', 'politics'],\n 'scores': [0.4734025001525879, 0.39843112230300903, 0.1281663328409195]}"
     },
     "execution_count": 49,
     "metadata": {},
     "output_type": "execute_result"
    }
   ],
   "source": [
    "classifier(\n",
    "    \"我是令涛硕士。\",\n",
    "    candidate_labels=[\"education\", \"politics\", \"business\"],\n",
    ")"
   ],
   "metadata": {
    "collapsed": false,
    "ExecuteTime": {
     "end_time": "2024-03-15T04:58:22.885613Z",
     "start_time": "2024-03-15T04:58:22.125499Z"
    }
   },
   "id": "d38de6915243e6b6",
   "execution_count": 49
  },
  {
   "cell_type": "markdown",
   "source": [
    "# 文本生成"
   ],
   "metadata": {
    "collapsed": false
   },
   "id": "b58aae891307302d"
  },
  {
   "cell_type": "code",
   "outputs": [
    {
     "name": "stderr",
     "output_type": "stream",
     "text": [
      "No model was supplied, defaulted to openai-community/gpt2 and revision 6c0e608 (https://hf-mirror.com/openai-community/gpt2).\n",
      "Using a pipeline without specifying a model name and revision in production is not recommended.\n",
      "Setting `pad_token_id` to `eos_token_id`:50256 for open-end generation.\n"
     ]
    },
    {
     "data": {
      "text/plain": "[{'generated_text': 'In this course, we will teach you how to create functional classes with the tools of JavaScript and Webpack. We will create a function named setTimeout that will send the results back to your console, set an initial value to whatever type of value your'}]"
     },
     "execution_count": 50,
     "metadata": {},
     "output_type": "execute_result"
    }
   ],
   "source": [
    "generator = pipeline(\"text-generation\")\n",
    "generator(\"In this course, we will teach you how to\")"
   ],
   "metadata": {
    "collapsed": false,
    "ExecuteTime": {
     "end_time": "2024-03-15T04:58:26.548896Z",
     "start_time": "2024-03-15T04:58:22.888962Z"
    }
   },
   "id": "4ddae9e5276497c9",
   "execution_count": 50
  },
  {
   "cell_type": "code",
   "outputs": [
    {
     "name": "stderr",
     "output_type": "stream",
     "text": [
      "Setting `pad_token_id` to `eos_token_id`:50256 for open-end generation.\n"
     ]
    },
    {
     "data": {
      "text/plain": "[{'generated_text': '我是令涛硕士，我就读于西安交大。\\n\\n問、夊知斯嗦�'}]"
     },
     "execution_count": 51,
     "metadata": {},
     "output_type": "execute_result"
    }
   ],
   "source": [
    "generator(\"我是令涛硕士，我就读于西安交大。\")\n"
   ],
   "metadata": {
    "collapsed": false,
    "ExecuteTime": {
     "end_time": "2024-03-15T04:58:28.749505Z",
     "start_time": "2024-03-15T04:58:26.550381Z"
    }
   },
   "id": "103c12cb46fd14d2",
   "execution_count": 51
  },
  {
   "cell_type": "code",
   "outputs": [
    {
     "name": "stderr",
     "output_type": "stream",
     "text": [
      "Setting `pad_token_id` to `eos_token_id`:50256 for open-end generation.\n"
     ]
    },
    {
     "data": {
      "text/plain": "[{'generated_text': 'I like eat apple erythritol,\" he said. The only problem is that the ingredients are different from one another.\\n\\nThe doctor tried, but he was too nervous.\\n\\n\"Don\\'t go home tonight if I need you'}]"
     },
     "execution_count": 52,
     "metadata": {},
     "output_type": "execute_result"
    }
   ],
   "source": [
    "generator(\"I like eat apple \")"
   ],
   "metadata": {
    "collapsed": false,
    "ExecuteTime": {
     "end_time": "2024-03-15T04:58:34.861826Z",
     "start_time": "2024-03-15T04:58:28.750751Z"
    }
   },
   "id": "9b0805c5c79b7db8",
   "execution_count": 52
  },
  {
   "cell_type": "code",
   "outputs": [
    {
     "name": "stderr",
     "output_type": "stream",
     "text": [
      "Truncation was not explicitly activated but `max_length` is provided a specific value, please use `truncation=True` to explicitly truncate examples to max length. Defaulting to 'longest_first' truncation strategy. If you encode pairs of sequences (GLUE-style) with the tokenizer you can select this strategy more precisely by providing a specific strategy to `truncation`.\n",
      "Setting `pad_token_id` to `eos_token_id`:50256 for open-end generation.\n"
     ]
    },
    {
     "data": {
      "text/plain": "[{'generated_text': \"In this course, we will teach you how to use a Java application that works with the Java library. It seems that Java's native JDK version\"},\n {'generated_text': 'In this course, we will teach you how to read a language, learn syntax, and make great learning decisions. If you have any questions or concerns'}]"
     },
     "execution_count": 53,
     "metadata": {},
     "output_type": "execute_result"
    }
   ],
   "source": [
    "generator = pipeline(\"text-generation\", model=\"distilgpt2\")\n",
    "generator(\n",
    "    \"In this course, we will teach you how to\",\n",
    "    max_length=30,\n",
    "    num_return_sequences=2,\n",
    ")"
   ],
   "metadata": {
    "collapsed": false,
    "ExecuteTime": {
     "end_time": "2024-03-15T04:58:36.603834Z",
     "start_time": "2024-03-15T04:58:34.863188Z"
    }
   },
   "id": "fc528ca6e5e1e2ed",
   "execution_count": 53
  },
  {
   "cell_type": "code",
   "outputs": [
    {
     "name": "stderr",
     "output_type": "stream",
     "text": [
      "Truncation was not explicitly activated but `max_length` is provided a specific value, please use `truncation=True` to explicitly truncate examples to max length. Defaulting to 'longest_first' truncation strategy. If you encode pairs of sequences (GLUE-style) with the tokenizer you can select this strategy more precisely by providing a specific strategy to `truncation`.\n",
      "Setting `pad_token_id` to `eos_token_id`:50256 for open-end generation.\n"
     ]
    },
    {
     "data": {
      "text/plain": "[{'generated_text': 'In this course, we will teach you how to generate and use F# with a variety of programming languages. If you can do this, please consider joining us the Learning Platform now!'},\n {'generated_text': \"In this course, we will teach you how to be good for your health, not just be bad for your life.”\\n\\n\\nYou won't know how to be good about it—there is a certain limit to it, and when I look back on my life as an adult I find it to be hard. And there are ways to tell that because I'm a little bit more self-conscious of myself, I am still aware of other people I don't know: What I can say isn't worth it. If you enjoy it, stay quiet.\\u202d\\nBy the end each course will teach you how to be good at it and to be great at it, as well as to be good at it. If you still don't appreciate it, you will discover that you can be a very strong writer who loves you.\\nMore About Yourself.\\nMore About The Way You Feel At Home\\nWhy is Your Life Different, And What Matters?\\nCategories: Life\"},\n {'generated_text': 'In this course, we will teach you how to make and use the knowledge of natural forces such as gravity, gravity and wind to make use of natural forces such as wind in an efficient and efficient fashion. The course will focus solely on using natural forces such as gravity, gravity and wind - all of which are natural forces for which natural forces exist in the universe - in a way that will increase you and to enhance your chances of success.'},\n {'generated_text': 'In this course, we will teach you how to create a simple, easy solution.\\n\\n\\nThe first step to creating this easy solution is to create a simple solution:\\nIn this next step, we will give you easy access to some simple functions:\\nIn this next step we will provide you easy access to a simple, easy method (a simple function that returns a new value to the class). We will create a simple method called a method on the method. Now, you can access each function in your scope. A simple method can create a method called a method called a function that returns a new value to the class when creating a call to a method with a new value to the class.\\nNow, there you have it, we have your code.\\nYou can see how it looks in the code below:\\nIt is easy to create this simple method using simple functions. We can use simple methods so that you have access to many useful functions. You can build more features that are easy to modify.\\nHere are some more examples and links.'},\n {'generated_text': \"In this course, we will teach you how to understand and learn how to use a single object without leaving much space for another.\\n\\n\\nOnce you learn how to use an object with that object, then it may be a bit tricky. You may use a little trick to figure out why you are using something that doesn't have space for another object, but a great starting point.\\nNow, take a peek at the example I used when I wrote this tutorial. I found this example useful, but it didn't teach you how to write objects without using that object. This tutorial will be useful for anyone who's a lot of math know about, but don't expect this tutorial to bring you any tips.\\nNow, I just made my first step of code. I'm going to show you how to start by making a few different objects. These objects were created using a simple-assay solution and then let us do everything we can to get it working.\\nOne of our basic methods is to define a new class called object class in your.class (or even just a class that you know about), which will be used to represent all of the objects. This property is a bit of a cross-platform approach, but I'll use this tutorial to show you how to define two classes using a given class, one that you can use in your class.\\nYou will eventually need to define multiple classes, depending on your type. If you use a class or a class\"},\n {'generated_text': \"In this course, we will teach you how to read the information for your research.\\n\\n\\nAfter the course, we will give you new ways of thinking about the relationship between psychology and biology, as well as why our research is best for this year's classes.\\nOur research has a great history and a great literature research history and a great library of fascinating documents.\"},\n {'generated_text': 'In this course, we will teach you how to create a single simple project so you can take advantage of all the common tools to get the job done.”'},\n {'generated_text': \"In this course, we will teach you how to best be great, the world will accept your talents and your love of the universe and the world will accept your love of the universe and the world will accept each other, so you can become a good person to all of us to become the best of our people! And in return, we will teach you that we must make a difference in how we are living and what we do to make sure we're there for other people. In order to make sure we are not one of them, we must be very clear that we must learn this and do things out in our own way. Each time we learn it, just for our enjoyment, and for the joy of the world and this day, when they come home, they will be in love and love together. So you know you can always enjoy each other as you enjoy each other. So, just remember as much as I can in my life, I am not going to make mistakes by choosing one way or another. My goal with these course is to help you to learn what everyone has to learn, and how to do that. So, with every step of its way, we will always be aware that, throughout this course, we will bring you one of the most wonderful things of the world, and to bring you love on another. To learn this lesson, for every person who has a small child with a small child with a small child with a small child with a small child with\"},\n {'generated_text': 'In this course, we will teach you how to build a computer so that there is less risk of crashing.\\n\\n\\n\\nWith the support from the Microsoft Office project, there will be a large number of courses. A lot of course materials are available on the Microsoft Web Store and on Microsoft. It‛s just important that you also read the previous chapters and the sections you find in the tutorial.\\nThe tutorial was made with the assistance of a Microsoft Visual Studio user using this project.\\nHere’s a list of the classes:\\nFirst and foremost you need to know how to create this Python framework. The problem comes when, as you can see, people only want one of the two. This happens during their course sessions the programming will be used (by everyone) to learn.\\nAs we mentioned above, Microsoft C++ will be able to work with the python runtime to run it in the current Python environment. This is done by setting up the python library in py.c to create a virtual machine for the project.\\nThe main thing is to build a framework that will run it and can be used in the application like a console and a web application.\\nWe will be using Python in a tutorial of how to create Python framework.\\nBefore we start using the Python module you can quickly install your own tool to build a Django application.\\nThis is what we will be doing here with each project:\\nI\\u200fm sure you will have noticed that'},\n {'generated_text': 'In this course, we will teach you how to learn to use a web server and how to create web services. See how to understand this subject in practice at https://learn.github.com/webmail/gems-web-server.\\n\\n\\n\\n\\n\\n\\nThe application is named after Adam Pinto and also it is called \"WebKit: WebKitWebKit\", the web browser.\\n\\nWe will use this tutorial to learn the process of starting your web browser.\\nOnce you have successfully installed WebKit in use, you will start to use the web app to install the website from the root of its container.\\nHere are the steps to start your web browser.\\nStep 3\\nStart from the root of your container. Here are the steps to start your web browser. The video shows the steps to start your web browser. You will get two main steps, the first one.\\nStep 4\\nStep 5\\nStep 6\\nOnce the web app is ready to install and begin installation, you will learn how to open the page. You will also learn that the web application has a host of resources for this site.\\nHere are the steps to start your web browser.\\nIf you prefer to use a web page with a host of resources, you can follow these steps by adding the hosts of this site.\\nBefore beginning the web browser, you will need to update the application for this service.\\nAs a result, you can run this application'},\n {'generated_text': 'In this course, we will teach you how to use a smart, multi-tasking, multi-session software solution to manage your online transactions.\\n\\n\\n\\nWhen you get to work to take advantage of the new Smart Blockchain.\\nThe smart Blockchain is a new concept and it aims to eliminate any barriers faced by the old, weak, and unreliable Blockchain; by giving you a convenient solution to create decentralized or non-crypto data.\\nFor easy tasks, you need to create a Blockchain:\\nSmartblockchain\\nSmartblockchain\\nSmartblockchain\\nStoring your smart transactions\\nIn this course we will teach you how to create smart transactions and make them easily available and secure enough to be utilized with anywhere, in the world. Your basic computer operating system will also be very handy to deal with your online transaction transactions and your digital currency, your digital currency, whatever is at stake in the Blockchain. You can store your Ethereum wallet, the Bitcoin Wallet, the BitCoin and other digital currencies, as well as your DigitalCoin wallet and send your digital currency.\\nThe Learning\\nYour training will start on a few things you will only need to know:\\nYou will need a few basic steps to use these two concepts:\\n1) Know which methods are appropriate for the Bitcoin wallet\\n2) Learn where to store your Ether(s)\\n3) Use them as a payment method\\n4) Use them in a way that allows you to securely securely transfer goods between'},\n {'generated_text': 'In this course, we will teach you how to do it.\\n\\nThe first is to understand how to process, see, and understand this problem using the following three exercises:\\nInitiating the Visualization of Objects\\nThe first is to see how to process. If you use this technique in Visualization, it is simple and easy. Initiating the Visualization of Objects, as is the case in the above form, can help you reduce your time to actually do a lot of this.\\nThe second is to learn how to create a collection of objects to build based on how many objects you want to create. This process is much simpler in practice as you will now have the first three to understand how to do it in visualization.\\nWe have seen many different approaches. Here and here are some more images for you:\\nYou can find many others on Instagram and Tumblr: Here.\\nAnd here on Pinterest: Here.\\nNow of course, you will also need to learn to control, edit, and organize objects using the following three exercises:\\nNow of course, you may also be interested in how to use the following three examples:\\nNow of course, you will also be interested in how to use the following three methods:\\nAs with all these techniques, you will find examples where you create a collection of objects that you will be able to control using either a set of command-line scripting commands or (through the use of the following one using the'},\n {'generated_text': 'In this course, we will teach you how to become productive in your own life.\\n\\n\\nLearn how to be productive in your own life. Learn how to be successful in your own life.\\nLearn how to be successful in your own life.\\nLearn how to be productive in your own life.\\nLearn what to do when you have problems, not only in self-help but also in my life, but also in my own life at home.\\nLearn what to do when you have problems, not only in self-help but also in my own life at home.\\nLearn what to do when you have problems, not only in self-help but also in my own life at home.'},\n {'generated_text': \"In this course, we will teach you how to play poker and how to work through the difficult game to learn. You can also use your training to play poker even though it is your training. The lesson we will cover from the first course is how to play poker and how to play poker.\\n\\n\\nThe best lessons you will learn will be how to play poker. We will teach you how to play poker and how to work through the difficult game to learn. Learn how to play poker in a good-practice manner.\\nHere's all the videos here and you can see them in action (you can download them in the video above)\"},\n {'generated_text': 'In this course, we will teach you how to do that.\\n\\n\\nThe Introduction\\nPart Two'},\n {'generated_text': 'In this course, we will teach you how to learn how to use your web application to make a new URL for your project.'},\n {'generated_text': 'In this course, we will teach you how to apply to any one of the primary techniques that can help you do your job correctly. In Part 1, we will learn our principles with understanding of the principles behind them. Part 2, you will learn how to apply to any one of the primary techniques that can help you do your job correctly.\\n\\n\\nIntroduction\\nWith this course you will learn all of the basic methods of the primary technique, including:\\nA number of primary methods - namely:\\nSimple - how to apply the principles to other methods. The basic ways to apply the principles - such as:\\n(1) a, b\\n(2) a\\n(3) a, c b\\n(4) c b a c b\\n(5) b a c b c\\n(6) b a c c b b c b c c\\n(7) a c c c c c c c c c f a c c c\\nExample 1: Example 2: Example 3: Example 4: Example 5: Example 6: Example 7: Example 8: Example 9: Example 10: Example 11: Example 12: The above is a practical example I like to use with my own example, for my own example.\\nNow, all of these principles have their own application and they all have some use cases when you have to apply principles for other ways of applying. Some of the most common ones exist among the best available, but many of them have some'},\n {'generated_text': \"In this course, we will teach you how to use Linux to learn the ways in which Docker can be used, and how you can use the new features which we will introduce on our upcoming series.\\n\\n\\n\\nLearn About Docker on the Linux Projects\\nWe are very excited about the possibilities of becoming a Linux developer on Linux's own!\\nLinux, Linux and Docker are both excellent ways to manage and manage your operating system— and those are all things that can be done in a given time—and I think there are even more ways that they can lead to a more secure environment.\\nThe biggest thing that you do in this course is learn about how to use a distributed system architecture because they are all very powerful and work with different operating systems to make it possible for people to manage and manage containers in and out of the production environment. We want to ensure that everything in your system works for you.\\nHere are a few examples of how your Linux computer is being used by your peers, as we are building up some really interesting features and improving the overall workflow so that you can experience the world.\"},\n {'generated_text': \"In this course, we will teach you how to use PowerShell functions in PowerShell without any trouble! You'll see that, in this course, you can use PowerShell functions to write scripts for the PowerShell environment, automatically by using PowerShell functions like:\\n\\n\\n\\n\\n\\n\\n\\n\\n\\n\\n\\n\\n\\n\\n\\n\\n\\n\\n\\n\\n\\n\\n\\n\\n\\n\\n\\n\\n\\n\\n\\n\\n\\n\\n\\n\\n\\n\\n\\n\\n\\n\\n\\nOnce upon a time, your PowerShell function will never run in the PowerShell environment\\n\\n\\n\\n\\n\\n\\n\\n\\n\\n\\n\\n\\n\\nWith PowerShell in your environment, you are creating and writing code for your home environment. If you start there, you will be able to change your PowerShell function to run, automatically. If you already have PowerShell functions, you will now create PowerShell functions from the PowerShell environment. This ensures that you can learn more about PowerShell and write more PowerShell functions online.\\n\\nBy using PowerShell functions, you are creating and writing a PowerShell function that is run directly from the PowerShell environment on your system, in any language. The PowerShell function automatically stores objects from your console. While this can be used to perform code for your home environment, this doesn't mean you can't run for the same time. But if you can do something else like changing your PowerShell code to run, then you can create PowerShell functions from the PowerShell environment.\\nWe'll tell you how to use PowerShell functions in your home, in your\"},\n {'generated_text': 'In this course, we will teach you how to get used to learning on the subject of the subject of the subject of the class and your understanding of the subject is critical to this understanding. This course is for anyone interested in learning and learning the subject of the class. We will not promote this idea.'}]"
     },
     "execution_count": 54,
     "metadata": {},
     "output_type": "execute_result"
    }
   ],
   "source": [
    "generator = pipeline(\"text-generation\", model=\"distilgpt2\",device=0)\n",
    "generator(\n",
    "    \"In this course, we will teach you how to\",\n",
    "    max_length=300,\n",
    "    num_return_sequences=20,\n",
    ")"
   ],
   "metadata": {
    "collapsed": false,
    "ExecuteTime": {
     "end_time": "2024-03-15T04:58:39.061457Z",
     "start_time": "2024-03-15T04:58:36.605502Z"
    }
   },
   "id": "6d4132549c443a72",
   "execution_count": 54
  },
  {
   "cell_type": "code",
   "outputs": [
    {
     "name": "stderr",
     "output_type": "stream",
     "text": [
      "No model was supplied, defaulted to distilbert/distilroberta-base and revision ec58a5b (https://hf-mirror.com/distilbert/distilroberta-base).\n",
      "Using a pipeline without specifying a model name and revision in production is not recommended.\n",
      "Some weights of the model checkpoint at distilbert/distilroberta-base were not used when initializing RobertaForMaskedLM: ['roberta.pooler.dense.bias', 'roberta.pooler.dense.weight']\n",
      "- This IS expected if you are initializing RobertaForMaskedLM from the checkpoint of a model trained on another task or with another architecture (e.g. initializing a BertForSequenceClassification model from a BertForPreTraining model).\n",
      "- This IS NOT expected if you are initializing RobertaForMaskedLM from the checkpoint of a model that you expect to be exactly identical (initializing a BertForSequenceClassification model from a BertForSequenceClassification model).\n"
     ]
    },
    {
     "data": {
      "text/plain": "[{'score': 0.19619712233543396,\n  'token': 30412,\n  'token_str': ' mathematical',\n  'sequence': 'This course will teach you all about mathematical models.'},\n {'score': 0.04052708297967911,\n  'token': 38163,\n  'token_str': ' computational',\n  'sequence': 'This course will teach you all about computational models.'}]"
     },
     "execution_count": 55,
     "metadata": {},
     "output_type": "execute_result"
    }
   ],
   "source": [
    " \n",
    "\n",
    "unmasker = pipeline(\"fill-mask\",device=0)\n",
    "unmasker(\"This course will teach you all about <mask> models.\", top_k=2)"
   ],
   "metadata": {
    "collapsed": false,
    "ExecuteTime": {
     "end_time": "2024-03-15T04:58:39.812206Z",
     "start_time": "2024-03-15T04:58:39.065458Z"
    }
   },
   "id": "4f6dc5d3e0188869",
   "execution_count": 55
  },
  {
   "cell_type": "code",
   "outputs": [
    {
     "data": {
      "text/plain": "[{'score': 0.14672788977622986,\n  'token': 48827,\n  'token_str': '上',\n  'sequence': '我早上喜欢吃苹果和上。'},\n {'score': 0.12378136068582535,\n  'token': 47643,\n  'token_str': '中',\n  'sequence': '我早上喜欢吃苹果和中。'}]"
     },
     "execution_count": 56,
     "metadata": {},
     "output_type": "execute_result"
    }
   ],
   "source": [
    "unmasker(\"我早上喜欢吃苹果和<mask>。\", top_k=2)"
   ],
   "metadata": {
    "collapsed": false,
    "ExecuteTime": {
     "end_time": "2024-03-15T04:58:39.846401Z",
     "start_time": "2024-03-15T04:58:39.813761Z"
    }
   },
   "id": "e53d1ad079d6e6d3",
   "execution_count": 56
  },
  {
   "cell_type": "code",
   "outputs": [
    {
     "name": "stderr",
     "output_type": "stream",
     "text": [
      "No model was supplied, defaulted to dbmdz/bert-large-cased-finetuned-conll03-english and revision f2482bf (https://hf-mirror.com/dbmdz/bert-large-cased-finetuned-conll03-english).\n",
      "Using a pipeline without specifying a model name and revision in production is not recommended.\n",
      "Some weights of the model checkpoint at dbmdz/bert-large-cased-finetuned-conll03-english were not used when initializing BertForTokenClassification: ['bert.pooler.dense.bias', 'bert.pooler.dense.weight']\n",
      "- This IS expected if you are initializing BertForTokenClassification from the checkpoint of a model trained on another task or with another architecture (e.g. initializing a BertForSequenceClassification model from a BertForPreTraining model).\n",
      "- This IS NOT expected if you are initializing BertForTokenClassification from the checkpoint of a model that you expect to be exactly identical (initializing a BertForSequenceClassification model from a BertForSequenceClassification model).\n"
     ]
    },
    {
     "data": {
      "text/plain": "[{'entity_group': 'PER',\n  'score': 0.9981694,\n  'word': 'Sylvain',\n  'start': 11,\n  'end': 18},\n {'entity_group': 'ORG',\n  'score': 0.9796019,\n  'word': 'Hugging Face',\n  'start': 33,\n  'end': 45},\n {'entity_group': 'LOC',\n  'score': 0.9932106,\n  'word': 'Brooklyn',\n  'start': 49,\n  'end': 57}]"
     },
     "execution_count": 57,
     "metadata": {},
     "output_type": "execute_result"
    }
   ],
   "source": [
    "ner = pipeline(\"ner\", grouped_entities=True,device=0)\n",
    "ner(\"My name is Sylvain and I work at Hugging Face in Brooklyn.\")"
   ],
   "metadata": {
    "collapsed": false,
    "ExecuteTime": {
     "end_time": "2024-03-15T04:58:41.845403Z",
     "start_time": "2024-03-15T04:58:39.848233Z"
    }
   },
   "id": "507fef23c7c5b615",
   "execution_count": 57
  },
  {
   "cell_type": "code",
   "outputs": [
    {
     "data": {
      "text/plain": "[{'entity_group': 'PER',\n  'score': 0.8838808,\n  'word': 'LingTao',\n  'start': 11,\n  'end': 18}]"
     },
     "execution_count": 58,
     "metadata": {},
     "output_type": "execute_result"
    }
   ],
   "source": [
    "ner(\"My name is LingTao\")"
   ],
   "metadata": {
    "collapsed": false,
    "ExecuteTime": {
     "end_time": "2024-03-15T04:58:41.885817Z",
     "start_time": "2024-03-15T04:58:41.847115Z"
    }
   },
   "id": "81bb7c81f5ffcf07",
   "execution_count": 58
  },
  {
   "cell_type": "code",
   "outputs": [
    {
     "name": "stderr",
     "output_type": "stream",
     "text": [
      "No model was supplied, defaulted to distilbert/distilbert-base-cased-distilled-squad and revision 626af31 (https://hf-mirror.com/distilbert/distilbert-base-cased-distilled-squad).\n",
      "Using a pipeline without specifying a model name and revision in production is not recommended.\n"
     ]
    }
   ],
   "source": [
    "question_answerer = pipeline(\"question-answering\",device=0)"
   ],
   "metadata": {
    "collapsed": false,
    "ExecuteTime": {
     "end_time": "2024-03-15T04:58:42.882132Z",
     "start_time": "2024-03-15T04:58:41.887414Z"
    }
   },
   "id": "309dad46ca41e85a",
   "execution_count": 59
  },
  {
   "cell_type": "code",
   "outputs": [
    {
     "name": "stderr",
     "output_type": "stream",
     "text": [
      "No model was supplied, defaulted to sshleifer/distilbart-cnn-12-6 and revision a4f8f3e (https://hf-mirror.com/sshleifer/distilbart-cnn-12-6).\n",
      "Using a pipeline without specifying a model name and revision in production is not recommended.\n"
     ]
    }
   ],
   "source": [
    "summarizer = pipeline(\"summarization\")\n"
   ],
   "metadata": {
    "collapsed": false,
    "ExecuteTime": {
     "end_time": "2024-03-15T04:58:44.428113Z",
     "start_time": "2024-03-15T04:58:42.885520Z"
    }
   },
   "id": "92c7b5b4f040272e",
   "execution_count": 60
  },
  {
   "cell_type": "markdown",
   "source": [
    "# 实体识别 shibing624/bert4ner-base-chinese"
   ],
   "metadata": {
    "collapsed": false
   },
   "id": "cc5340f2b8ae0392"
  },
  {
   "cell_type": "code",
   "outputs": [],
   "source": [
    "ner = pipeline(\"ner\", model=\"shibing624/bert4ner-base-chinese\",device=0)"
   ],
   "metadata": {
    "collapsed": false,
    "ExecuteTime": {
     "end_time": "2024-03-15T04:58:44.892494Z",
     "start_time": "2024-03-15T04:58:44.430299Z"
    }
   },
   "id": "43fabc180279b8f3",
   "execution_count": 61
  },
  {
   "cell_type": "code",
   "outputs": [
    {
     "data": {
      "text/plain": "[{'entity': 'B-PER',\n  'score': 0.99982256,\n  'index': 3,\n  'word': '孔',\n  'start': 2,\n  'end': 3},\n {'entity': 'I-PER',\n  'score': 0.9998381,\n  'index': 4,\n  'word': '令',\n  'start': 3,\n  'end': 4},\n {'entity': 'I-PER',\n  'score': 0.99990463,\n  'index': 5,\n  'word': '涛',\n  'start': 4,\n  'end': 5},\n {'entity': 'B-ORG',\n  'score': 0.99617827,\n  'index': 11,\n  'word': '西',\n  'start': 10,\n  'end': 11},\n {'entity': 'I-ORG',\n  'score': 0.99722326,\n  'index': 12,\n  'word': '安',\n  'start': 11,\n  'end': 12},\n {'entity': 'I-ORG',\n  'score': 0.9936413,\n  'index': 13,\n  'word': '交',\n  'start': 12,\n  'end': 13},\n {'entity': 'I-ORG',\n  'score': 0.9962859,\n  'index': 14,\n  'word': '大',\n  'start': 13,\n  'end': 14}]"
     },
     "execution_count": 62,
     "metadata": {},
     "output_type": "execute_result"
    }
   ],
   "source": [
    "ner(\"我是孔令涛硕士，来自西安交大。\")"
   ],
   "metadata": {
    "collapsed": false,
    "ExecuteTime": {
     "end_time": "2024-03-15T04:58:44.912576Z",
     "start_time": "2024-03-15T04:58:44.894881Z"
    }
   },
   "id": "a00681dac1859007",
   "execution_count": 62
  },
  {
   "cell_type": "code",
   "outputs": [
    {
     "name": "stdout",
     "output_type": "stream",
     "text": [
      "Looking in indexes: http://mirrors.aliyun.com/pypi/simple/\r\n",
      "Requirement already satisfied: sacremoses in ./miniconda3/lib/python3.10/site-packages (0.1.1)\r\n",
      "Requirement already satisfied: regex in ./miniconda3/lib/python3.10/site-packages (from sacremoses) (2023.10.3)\r\n",
      "Requirement already satisfied: click in ./miniconda3/lib/python3.10/site-packages (from sacremoses) (8.1.7)\r\n",
      "Requirement already satisfied: joblib in ./miniconda3/lib/python3.10/site-packages (from sacremoses) (1.3.2)\r\n",
      "Requirement already satisfied: tqdm in ./miniconda3/lib/python3.10/site-packages (from sacremoses) (4.66.1)\r\n",
      "\u001B[33mWARNING: Running pip as the 'root' user can result in broken permissions and conflicting behaviour with the system package manager. It is recommended to use a virtual environment instead: https://pip.pypa.io/warnings/venv\u001B[0m\u001B[33m\r\n",
      "\u001B[0m"
     ]
    }
   ],
   "source": [
    "!pip install sacremoses "
   ],
   "metadata": {
    "collapsed": false,
    "ExecuteTime": {
     "end_time": "2024-03-15T04:58:48.304611Z",
     "start_time": "2024-03-15T04:58:44.916227Z"
    }
   },
   "id": "33278eae80d7cfd0",
   "execution_count": 63
  },
  {
   "cell_type": "code",
   "outputs": [
    {
     "data": {
      "text/plain": "[{'translation_text': 'Ce cours es est produit at cugging face. 塞斯·库尔斯和罗迪特·拉格脸'}]"
     },
     "execution_count": 64,
     "metadata": {},
     "output_type": "execute_result"
    }
   ],
   "source": [
    "\n",
    "translator = pipeline(\"translation\", model=\"Helsinki-NLP/opus-mt-en-zh\",device=0)\n",
    "translator(\"Ce cours est produit par Hugging Face.\")"
   ],
   "metadata": {
    "collapsed": false,
    "ExecuteTime": {
     "end_time": "2024-03-15T04:58:51.125844Z",
     "start_time": "2024-03-15T04:58:48.310693Z"
    }
   },
   "id": "6e97b26d7705e907",
   "execution_count": 64
  },
  {
   "cell_type": "code",
   "outputs": [
    {
     "data": {
      "text/plain": "[{'translation_text': '我喜欢吃苹果'}]"
     },
     "execution_count": 65,
     "metadata": {},
     "output_type": "execute_result"
    }
   ],
   "source": [
    "translator(\"I like eat apples\")"
   ],
   "metadata": {
    "collapsed": false,
    "ExecuteTime": {
     "end_time": "2024-03-15T04:58:51.219359Z",
     "start_time": "2024-03-15T04:58:51.127838Z"
    }
   },
   "id": "b65b38f0515977af",
   "execution_count": 65
  },
  {
   "cell_type": "code",
   "outputs": [],
   "source": [
    "translator = pipeline(\"translation\", model=\"Helsinki-NLP/opus-mt-zh-en\",device=0)"
   ],
   "metadata": {
    "collapsed": false,
    "ExecuteTime": {
     "end_time": "2024-03-15T04:58:54.535148Z",
     "start_time": "2024-03-15T04:58:51.221380Z"
    }
   },
   "id": "f9cec190baa9a123",
   "execution_count": 66
  },
  {
   "cell_type": "code",
   "outputs": [
    {
     "data": {
      "text/plain": "[{'translation_text': \"I'm Yang Yiu.\"}]"
     },
     "execution_count": 67,
     "metadata": {},
     "output_type": "execute_result"
    }
   ],
   "source": [
    "translator(\"我是孔令涛硕士。\")\n",
    "translator(\"我是杨烨。\")"
   ],
   "metadata": {
    "collapsed": false,
    "ExecuteTime": {
     "end_time": "2024-03-15T04:58:54.774954Z",
     "start_time": "2024-03-15T04:58:54.537573Z"
    }
   },
   "id": "9d4be0932314c83f",
   "execution_count": 67
  },
  {
   "cell_type": "code",
   "outputs": [],
   "source": [],
   "metadata": {
    "collapsed": false,
    "ExecuteTime": {
     "end_time": "2024-03-15T04:58:54.782121Z",
     "start_time": "2024-03-15T04:58:54.777395Z"
    }
   },
   "id": "9aab669274326fba",
   "execution_count": 67
  },
  {
   "cell_type": "code",
   "outputs": [],
   "source": [],
   "metadata": {
    "collapsed": false,
    "ExecuteTime": {
     "end_time": "2024-03-15T04:58:54.788323Z",
     "start_time": "2024-03-15T04:58:54.784465Z"
    }
   },
   "id": "d6f721e3c1ea37e3",
   "execution_count": 67
  }
 ],
 "metadata": {
  "kernelspec": {
   "display_name": "Python 3",
   "language": "python",
   "name": "python3"
  },
  "language_info": {
   "codemirror_mode": {
    "name": "ipython",
    "version": 2
   },
   "file_extension": ".py",
   "mimetype": "text/x-python",
   "name": "python",
   "nbconvert_exporter": "python",
   "pygments_lexer": "ipython2",
   "version": "2.7.6"
  }
 },
 "nbformat": 4,
 "nbformat_minor": 5
}
