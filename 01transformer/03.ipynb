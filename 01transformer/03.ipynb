{
 "cells": [
  {
   "cell_type": "markdown",
   "source": [
    "# BAAI/bge-reranker-large"
   ],
   "metadata": {
    "collapsed": false
   },
   "id": "fce99703c4e95835"
  },
  {
   "cell_type": "code",
   "outputs": [
    {
     "name": "stdout",
     "output_type": "stream",
     "text": [
      "https://hf-mirror.com\n",
      "Number of GPUs available: 1\n",
      "CUDA version: 12.1\n",
      "Device name: NVIDIA RTX A6000\n"
     ]
    }
   ],
   "source": [
    "import os\n",
    "from transformers import pipeline\n",
    "import torch\n",
    "from transformers import BertTokenizer\n",
    "import json\n",
    "from transformers import AutoModel\n",
    "from transformers import AutoTokenizer\n",
    "\n",
    "# cache_dir = \"/Users/yangye/models\"\n",
    "# 设置环境变量\n",
    "# os.environ[\"HF_ENDPOINT\"] = \"https://hf-mirror.com\"\n",
    "\n",
    "# 检查环境变量是否设置成功\n",
    "print(os.environ[\"HF_ENDPOINT\"])\n",
    "# 设置 CUDA_VISIBLE_DEVICES 环境变量\n",
    "os.environ[\"CUDA_VISIBLE_DEVICES\"] = \"0\"\n",
    "\n",
    "\n",
    "\n",
    "if torch.cuda.is_available():\n",
    "    print(f\"Number of GPUs available: {torch.cuda.device_count()}\")\n",
    "    print(\"CUDA version:\", torch.version.cuda)\n",
    "    print(\"Device name:\", torch.cuda.get_device_name(0))\n",
    "else:\n",
    "    print(\"CUDA is not available. Check your installation and try again.\")\n"
   ],
   "metadata": {
    "collapsed": false,
    "ExecuteTime": {
     "end_time": "2024-03-17T13:40:47.299286Z",
     "start_time": "2024-03-17T13:40:47.289511Z"
    }
   },
   "id": "6065b0d9db9bb34c",
   "execution_count": 73
  },
  {
   "cell_type": "code",
   "outputs": [],
   "source": [
    "classifier = pipeline(\"sentiment-analysis\", model=\"lxyuan/distilbert-base-multilingual-cased-sentiments-student\")"
   ],
   "metadata": {
    "collapsed": false,
    "ExecuteTime": {
     "end_time": "2024-03-17T13:40:48.301038Z",
     "start_time": "2024-03-17T13:40:47.305724Z"
    }
   },
   "id": "6f7abe06489607d2",
   "execution_count": 74
  },
  {
   "cell_type": "code",
   "outputs": [],
   "source": [
    "checkpoint= \"lxyuan/distilbert-base-multilingual-cased-sentiments-student\"\n",
    "tokenizer = AutoTokenizer.from_pretrained(checkpoint,device=0)"
   ],
   "metadata": {
    "collapsed": false,
    "ExecuteTime": {
     "end_time": "2024-03-17T13:40:49.095044Z",
     "start_time": "2024-03-17T13:40:48.304833Z"
    }
   },
   "id": "f45647c2d3d70687",
   "execution_count": 75
  },
  {
   "cell_type": "code",
   "outputs": [
    {
     "name": "stdout",
     "output_type": "stream",
     "text": [
      "{'input_ids': tensor([[ 101, 3976, 3705, 2097, 2146, 3976, 3792, 5383, 5718, 3459, 5429,  119,\n",
      "          102],\n",
      "        [ 101, 3976, 2767, 2555, 2146, 3976, 2921, 5383, 5718, 5400, 6501, 1882,\n",
      "          102],\n",
      "        [ 101, 3976, 5718, 6558, 7545, 5842, 2231, 2146, 1882,  102,    0,    0,\n",
      "            0],\n",
      "        [ 101, 3976, 7569, 2555, 5429, 3492, 2146, 1882,  102,    0,    0,    0,\n",
      "            0]]), 'attention_mask': tensor([[1, 1, 1, 1, 1, 1, 1, 1, 1, 1, 1, 1, 1],\n",
      "        [1, 1, 1, 1, 1, 1, 1, 1, 1, 1, 1, 1, 1],\n",
      "        [1, 1, 1, 1, 1, 1, 1, 1, 1, 1, 0, 0, 0],\n",
      "        [1, 1, 1, 1, 1, 1, 1, 1, 1, 0, 0, 0, 0]])}\n"
     ]
    }
   ],
   "source": [
    "raw_inputs = [\n",
    "    \"我弄丢了我心爱的小狗.\",\n",
    "    \"我吃到了我喜爱的牛肉。\",\n",
    "    \"我的脚趾砸伤了。\",\n",
    "    \"我踩到狗屎了。\"\n",
    "]\n",
    "inputs=tokenizer(raw_inputs, padding=True, truncation=True, return_tensors=\"pt\")\n",
    "print(inputs)\n",
    "\n",
    " "
   ],
   "metadata": {
    "collapsed": false,
    "ExecuteTime": {
     "end_time": "2024-03-17T13:40:49.107751Z",
     "start_time": "2024-03-17T13:40:49.097563Z"
    }
   },
   "id": "4cd3497ad551d41b",
   "execution_count": 76
  },
  {
   "cell_type": "code",
   "outputs": [],
   "source": [
    "checkpoint= \"lxyuan/distilbert-base-multilingual-cased-sentiments-student\""
   ],
   "metadata": {
    "collapsed": false,
    "ExecuteTime": {
     "end_time": "2024-03-17T13:40:49.134782Z",
     "start_time": "2024-03-17T13:40:49.110900Z"
    }
   },
   "id": "e65cc6d87155aa05",
   "execution_count": 77
  },
  {
   "cell_type": "code",
   "outputs": [],
   "source": [
    "model = AutoModel.from_pretrained(checkpoint)"
   ],
   "metadata": {
    "collapsed": false,
    "ExecuteTime": {
     "end_time": "2024-03-17T13:40:50.411317Z",
     "start_time": "2024-03-17T13:40:49.138950Z"
    }
   },
   "id": "843f52bfbd228fec",
   "execution_count": 78
  },
  {
   "cell_type": "code",
   "outputs": [
    {
     "name": "stdout",
     "output_type": "stream",
     "text": [
      "torch.Size([4, 13, 768])\n"
     ]
    }
   ],
   "source": [
    "outputs = model(**inputs)\n",
    "print(outputs.last_hidden_state.shape)"
   ],
   "metadata": {
    "collapsed": false,
    "ExecuteTime": {
     "end_time": "2024-03-17T13:40:50.700142Z",
     "start_time": "2024-03-17T13:40:50.413051Z"
    }
   },
   "id": "39165ab22efb4997",
   "execution_count": 79
  },
  {
   "cell_type": "code",
   "outputs": [],
   "source": [
    "from transformers import AutoModelForSequenceClassification\n",
    "checkpoint= \"lxyuan/distilbert-base-multilingual-cased-sentiments-student\"\n",
    "model=AutoModelForSequenceClassification.from_pretrained(checkpoint)"
   ],
   "metadata": {
    "collapsed": false,
    "ExecuteTime": {
     "end_time": "2024-03-17T13:40:51.440030Z",
     "start_time": "2024-03-17T13:40:50.701512Z"
    }
   },
   "id": "cffa2659b3deb9ce",
   "execution_count": 80
  },
  {
   "cell_type": "code",
   "outputs": [],
   "source": [
    "outputs = model(**inputs)"
   ],
   "metadata": {
    "collapsed": false,
    "ExecuteTime": {
     "end_time": "2024-03-17T13:40:51.664689Z",
     "start_time": "2024-03-17T13:40:51.441716Z"
    }
   },
   "id": "1e99c8b74b261f6b",
   "execution_count": 81
  },
  {
   "cell_type": "code",
   "outputs": [
    {
     "name": "stdout",
     "output_type": "stream",
     "text": [
      "torch.Size([4, 3])\n"
     ]
    }
   ],
   "source": [
    "print(outputs.logits.shape)"
   ],
   "metadata": {
    "collapsed": false,
    "ExecuteTime": {
     "end_time": "2024-03-17T13:40:51.671748Z",
     "start_time": "2024-03-17T13:40:51.666933Z"
    }
   },
   "id": "9b038a471e8e9689",
   "execution_count": 82
  },
  {
   "cell_type": "code",
   "outputs": [
    {
     "name": "stdout",
     "output_type": "stream",
     "text": [
      "tensor([[ 0.5801, -0.7363,  0.1747],\n",
      "        [ 2.5168, -0.6055, -2.0339],\n",
      "        [-0.9866, -0.2937,  1.5766],\n",
      "        [-1.3302, -0.5551,  2.2151]], grad_fn=<AddmmBackward0>)\n"
     ]
    }
   ],
   "source": [
    "print(outputs.logits)"
   ],
   "metadata": {
    "collapsed": false,
    "ExecuteTime": {
     "end_time": "2024-03-17T13:40:51.683517Z",
     "start_time": "2024-03-17T13:40:51.673493Z"
    }
   },
   "id": "c993c0f6e8411602",
   "execution_count": 83
  },
  {
   "cell_type": "code",
   "outputs": [],
   "source": [
    "predictions = torch.nn.functional.softmax(outputs.logits, dim=-1)"
   ],
   "metadata": {
    "collapsed": false,
    "ExecuteTime": {
     "end_time": "2024-03-17T13:40:51.689708Z",
     "start_time": "2024-03-17T13:40:51.685106Z"
    }
   },
   "id": "a1187779b45be2fb",
   "execution_count": 84
  },
  {
   "cell_type": "code",
   "outputs": [
    {
     "name": "stdout",
     "output_type": "stream",
     "text": [
      "tensor([[0.5169, 0.1386, 0.3446],\n",
      "        [0.9482, 0.0418, 0.0100],\n",
      "        [0.0626, 0.1251, 0.8123],\n",
      "        [0.0264, 0.0574, 0.9162]], grad_fn=<SoftmaxBackward0>)\n"
     ]
    }
   ],
   "source": [
    "print(predictions)"
   ],
   "metadata": {
    "collapsed": false,
    "ExecuteTime": {
     "end_time": "2024-03-17T13:40:51.696867Z",
     "start_time": "2024-03-17T13:40:51.691158Z"
    }
   },
   "id": "d72204bd33cb5d41",
   "execution_count": 85
  },
  {
   "cell_type": "code",
   "outputs": [
    {
     "data": {
      "text/plain": "{0: 'positive', 1: 'neutral', 2: 'negative'}"
     },
     "execution_count": 87,
     "metadata": {},
     "output_type": "execute_result"
    }
   ],
   "source": [
    "model.config.id2label"
   ],
   "metadata": {
    "collapsed": false,
    "ExecuteTime": {
     "end_time": "2024-03-17T14:03:15.727013Z",
     "start_time": "2024-03-17T14:03:15.720269Z"
    }
   },
   "id": "d1a007b062db7c24",
   "execution_count": 87
  },
  {
   "cell_type": "code",
   "outputs": [],
   "source": [],
   "metadata": {
    "collapsed": false,
    "ExecuteTime": {
     "end_time": "2024-03-17T13:40:51.713018Z",
     "start_time": "2024-03-17T13:40:51.709722Z"
    }
   },
   "id": "6d7ade4530aea2af",
   "execution_count": 86
  }
 ],
 "metadata": {
  "kernelspec": {
   "display_name": "Python 3",
   "language": "python",
   "name": "python3"
  },
  "language_info": {
   "codemirror_mode": {
    "name": "ipython",
    "version": 2
   },
   "file_extension": ".py",
   "mimetype": "text/x-python",
   "name": "python",
   "nbconvert_exporter": "python",
   "pygments_lexer": "ipython2",
   "version": "2.7.6"
  }
 },
 "nbformat": 4,
 "nbformat_minor": 5
}
