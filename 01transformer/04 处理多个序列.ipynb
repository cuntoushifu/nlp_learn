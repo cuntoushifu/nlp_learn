{
 "cells": [
  {
   "cell_type": "code",
   "outputs": [
    {
     "name": "stdout",
     "output_type": "stream",
     "text": [
      "https://hf-mirror.com\n"
     ]
    }
   ],
   "source": [
    "import os\n",
    "import torch\n",
    " \n",
    "cache_dir = \"/Users/yangye/models\"\n",
    "# 设置环境变量\n",
    "os.environ[\"HF_ENDPOINT\"] = \"https://hf-mirror.com\"\n",
    "\n",
    "# 检查环境变量是否设置成功\n",
    "print(os.environ[\"HF_ENDPOINT\"])\n",
    "# 设置 CUDA_VISIBLE_DEVICES 环境变量\n",
    "os.environ[\"CUDA_VISIBLE_DEVICES\"] = \"0\"\n",
    "\n",
    "\n",
    "\n",
    "# if torch.cuda.is_available():\n",
    "#     print(f\"Number of GPUs available: {torch.cuda.device_count()}\")\n",
    "#     print(\"CUDA version:\", torch.version.cuda)\n",
    "#     print(\"Device name:\", torch.cuda.get_device_name(0))\n",
    "# else:\n",
    "#     print(\"CUDA is not available. Check your installation and try again.\")\n"
   ],
   "metadata": {
    "collapsed": false,
    "ExecuteTime": {
     "end_time": "2024-03-23T05:24:45.931006Z",
     "start_time": "2024-03-23T05:24:45.927942Z"
    }
   },
   "id": "efcc919c7fdbeb1a",
   "execution_count": 56
  },
  {
   "cell_type": "code",
   "outputs": [],
   "source": [
    "from transformers import AutoTokenizer, AutoModelForSequenceClassification\n",
    "\n",
    "checkpoint = \"distilbert-base-uncased-finetuned-sst-2-english\"\n",
    "tokenizer = AutoTokenizer.from_pretrained(checkpoint)\n",
    "model = AutoModelForSequenceClassification.from_pretrained(checkpoint)"
   ],
   "metadata": {
    "collapsed": false,
    "ExecuteTime": {
     "end_time": "2024-03-23T05:24:46.801061Z",
     "start_time": "2024-03-23T05:24:45.932568Z"
    }
   },
   "id": "be85c645181801ed",
   "execution_count": 57
  },
  {
   "cell_type": "code",
   "outputs": [
    {
     "name": "stdout",
     "output_type": "stream",
     "text": [
      "tokens: ['我', '[UNK]', '三', '[UNK]', '大', '学', '[UNK]', '士', '[UNK]', '[UNK]', '。']\n",
      "ids: [1855, 100, 1741, 100, 1810, 1817, 100, 1807, 100, 100, 1636]\n"
     ]
    }
   ],
   "source": [
    "sequence = \"我是三峡大学硕士刘战。\"\n",
    "tokens=tokenizer.tokenize(sequence)\n",
    "ids= tokenizer.convert_tokens_to_ids(tokens)\n",
    "print(\"tokens:\",tokens)\n",
    "print(\"ids:\",ids)\n"
   ],
   "metadata": {
    "collapsed": false,
    "ExecuteTime": {
     "end_time": "2024-03-23T05:24:46.809510Z",
     "start_time": "2024-03-23T05:24:46.802443Z"
    }
   },
   "id": "c5f7ca7d32701c7",
   "execution_count": 58
  },
  {
   "cell_type": "code",
   "outputs": [
    {
     "name": "stdout",
     "output_type": "stream",
     "text": [
      "input_ids: tensor([1855,  100, 1741,  100, 1810, 1817,  100, 1807,  100,  100, 1636])\n"
     ]
    }
   ],
   "source": [
    "input_ids = torch.tensor(ids)\n",
    "print(\"input_ids:\",input_ids)"
   ],
   "metadata": {
    "collapsed": false,
    "ExecuteTime": {
     "end_time": "2024-03-23T05:24:46.813810Z",
     "start_time": "2024-03-23T05:24:46.810564Z"
    }
   },
   "id": "8b071364df33f1bb",
   "execution_count": 59
  },
  {
   "cell_type": "code",
   "outputs": [],
   "source": [
    "# model(input_ids)"
   ],
   "metadata": {
    "collapsed": false,
    "ExecuteTime": {
     "end_time": "2024-03-23T05:24:46.817161Z",
     "start_time": "2024-03-23T05:24:46.815566Z"
    }
   },
   "id": "6aebd4b5e4437f58",
   "execution_count": 60
  },
  {
   "cell_type": "code",
   "outputs": [
    {
     "name": "stdout",
     "output_type": "stream",
     "text": [
      "tensor([[ 101, 1855,  100, 1741,  100, 1810, 1817,  100, 1807,  100,  100, 1636,\n",
      "          102]])\n"
     ]
    }
   ],
   "source": [
    "tokenized_inputs=tokenizer(sequence,return_tensors=\"pt\")\n",
    "print(tokenized_inputs[\"input_ids\"])"
   ],
   "metadata": {
    "collapsed": false,
    "ExecuteTime": {
     "end_time": "2024-03-23T05:24:46.820593Z",
     "start_time": "2024-03-23T05:24:46.817855Z"
    }
   },
   "id": "750592392645b022",
   "execution_count": 61
  },
  {
   "cell_type": "markdown",
   "source": [
    "# 您会发现tokenizer不仅将输入ID列表转换为张量，还在其顶部添加了一个维度"
   ],
   "metadata": {
    "collapsed": false
   },
   "id": "18e8adb747cf3968"
  },
  {
   "cell_type": "code",
   "outputs": [
    {
     "name": "stdout",
     "output_type": "stream",
     "text": [
      "input_ids: tensor([[1855,  100, 1741,  100, 1810, 1817,  100, 1807,  100,  100, 1636]])\n",
      "outputs.logits: tensor([[ 1.8272, -1.5506]], grad_fn=<AddmmBackward0>)\n"
     ]
    }
   ],
   "source": [
    "sequence=\"我是三峡大学硕士刘战。\"\n",
    "tokens=tokenizer.tokenize(sequence)\n",
    "ids=tokenizer.convert_tokens_to_ids(tokens)\n",
    "input_ids=torch.tensor([ids])\n",
    "print(\"input_ids:\",input_ids)\n",
    "\n",
    "outputs=model(input_ids)\n",
    "print(\"outputs.logits:\",outputs.logits)"
   ],
   "metadata": {
    "collapsed": false,
    "ExecuteTime": {
     "end_time": "2024-03-23T05:24:46.875861Z",
     "start_time": "2024-03-23T05:24:46.821514Z"
    }
   },
   "id": "6133b5572f7dd64e",
   "execution_count": 62
  },
  {
   "cell_type": "code",
   "outputs": [],
   "source": [
    "batched_ids = [[ids, ids]]"
   ],
   "metadata": {
    "collapsed": false,
    "ExecuteTime": {
     "end_time": "2024-03-23T05:26:06.798216Z",
     "start_time": "2024-03-23T05:26:06.795994Z"
    }
   },
   "id": "7cc8ccf4101f8eba",
   "execution_count": 63
  },
  {
   "cell_type": "code",
   "outputs": [],
   "source": [],
   "metadata": {
    "collapsed": false
   },
   "id": "4d9a5fb27e0320f8"
  }
 ],
 "metadata": {
  "kernelspec": {
   "display_name": "Python 3",
   "language": "python",
   "name": "python3"
  },
  "language_info": {
   "codemirror_mode": {
    "name": "ipython",
    "version": 2
   },
   "file_extension": ".py",
   "mimetype": "text/x-python",
   "name": "python",
   "nbconvert_exporter": "python",
   "pygments_lexer": "ipython2",
   "version": "2.7.6"
  }
 },
 "nbformat": 4,
 "nbformat_minor": 5
}
